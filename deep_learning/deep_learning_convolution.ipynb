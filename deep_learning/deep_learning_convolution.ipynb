{
 "cells": [
  {
   "cell_type": "code",
   "execution_count": 7,
   "metadata": {},
   "outputs": [],
   "source": [
    "import torch\n",
    "from torch.nn import Module\n",
    "from torch.autograd import Variable\n",
    "import torchvision\n",
    "from torchvision.datasets import MNIST\n",
    "import torchvision.transforms as transforms\n",
    "import torch.nn as nn\n",
    "import torch.optim as optim\n",
    "import numpy as np\n",
    "import torch.nn.functional as F"
   ]
  },
  {
   "cell_type": "code",
   "execution_count": 2,
   "metadata": {},
   "outputs": [],
   "source": [
    "# nn.Linear?"
   ]
  },
  {
   "cell_type": "code",
   "execution_count": 3,
   "metadata": {},
   "outputs": [],
   "source": [
    "train_mnist_transforms = transforms.Compose([transforms.ToTensor(), transforms.Normalize((0.5,), (1.0,))])\n",
    "train_mnist_dataset = MNIST(root='~/Data/pytorch/', train=True, transform=train_mnist_transforms)"
   ]
  },
  {
   "cell_type": "code",
   "execution_count": 4,
   "metadata": {},
   "outputs": [],
   "source": [
    "batch_size=1"
   ]
  },
  {
   "cell_type": "code",
   "execution_count": 5,
   "metadata": {},
   "outputs": [],
   "source": [
    "train_mnist_data_loader = torch.utils.data.DataLoader(dataset=train_mnist_dataset,batch_size=batch_size,shuffle=True)"
   ]
  },
  {
   "cell_type": "code",
   "execution_count": 6,
   "metadata": {},
   "outputs": [],
   "source": [
    "# for epoch in xrange(1):\n",
    "#     for batch_id, (x, y) in enumerate(train_mnist_data_loader):\n",
    "#         x, y = Variable(x), Variable(y)\n",
    "#         print('x:', x.data.shape)\n",
    "#         print('y:', y.data.shape)\n",
    "#         break"
   ]
  },
  {
   "cell_type": "code",
   "execution_count": 10,
   "metadata": {},
   "outputs": [],
   "source": [
    "class Conv_Net(Module):\n",
    "    def __init__(self):\n",
    "        super(Conv_Net, self).__init__()\n",
    "        self.conv1 = nn.Conv2d(1, 6, (5,5), padding=2)\n",
    "        self.conv2 = nn.Conv2d(6, 16, (5,5))\n",
    "        self.fc1   = nn.Linear(16*5*5, 120)\n",
    "        self.fc2   = nn.Linear(120, 84)\n",
    "        self.fc3   = nn.Linear(84, 10)\n",
    "    def forward(self, x):\n",
    "        x = F.max_pool2d(F.relu(self.conv1(x)), (2,2))\n",
    "        x = F.max_pool2d(F.relu(self.conv2(x)), (2,2))\n",
    "        x = x.view(-1, self.num_flat_features(x))\n",
    "        x = F.relu(self.fc1(x))\n",
    "        x = F.relu(self.fc2(x))\n",
    "        x = self.fc3(x)\n",
    "        return x\n",
    "    def num_flat_features(self, x):\n",
    "        size = x.size()[1:]\n",
    "        num_features = 1\n",
    "        for s in size:\n",
    "            num_features *= s\n",
    "        return num_features"
   ]
  },
  {
   "cell_type": "code",
   "execution_count": 11,
   "metadata": {},
   "outputs": [],
   "source": [
    "model = Conv_Net()"
   ]
  },
  {
   "cell_type": "code",
   "execution_count": 12,
   "metadata": {},
   "outputs": [],
   "source": [
    "criterion = nn.CrossEntropyLoss()\n",
    "optimizer = optim.SGD(model.parameters(), lr=0.001, momentum=0.9, weight_decay=5e-4)"
   ]
  },
  {
   "cell_type": "code",
   "execution_count": null,
   "metadata": {},
   "outputs": [
    {
     "name": "stdout",
     "output_type": "stream",
     "text": [
      "('acc:', array([ 0.94063234]))\n",
      "('epoch:', 0)\n",
      "('loss_avg_epoch:', array([ 0.18523914], dtype=float32))\n",
      "('acc:', array([ 0.98143302]))\n",
      "('epoch:', 1)\n",
      "('loss_avg_epoch:', array([ 0.06200045], dtype=float32))\n",
      "('acc:', array([ 0.98511642]))\n",
      "('epoch:', 2)\n",
      "('loss_avg_epoch:', array([ 0.04887283], dtype=float32))\n"
     ]
    }
   ],
   "source": [
    "for epoch in range(10):\n",
    "    loss_epoch = 0\n",
    "    loss_avg_epoch = 0\n",
    "    data_count = 0\n",
    "    right_count = 0\n",
    "    for i, (x, y) in enumerate(train_mnist_data_loader):\n",
    "        data_count = i\n",
    "#         print(i)\n",
    "        x, y = Variable(x), Variable(y)\n",
    "\n",
    "        # 训练优化参数\n",
    "        optimizer.zero_grad()\n",
    "\n",
    "        outputs = model(x)\n",
    "        loss = criterion(outputs, y)\n",
    "        # print('loss:', loss)\n",
    "        loss_numpy = loss.data.numpy()\n",
    "        loss_epoch += loss_numpy\n",
    "        loss.backward()\n",
    "\n",
    "        optimizer.step()\n",
    "        outputs_np = outputs.data.numpy()\n",
    "        pred = np.argmax(outputs_np, axis=1)\n",
    "        y_np = y.data.numpy()\n",
    "        right_count += (pred==y_np)\n",
    "#         print('outputs_numpy:', outputs_numpy)\n",
    "#         print('pred:', pred)\n",
    "#         print('y_np:', y_np)\n",
    "#         break\n",
    "\n",
    "    print('acc:', right_count*1.0/data_count)\n",
    "    # 输出一个周期后的loss\n",
    "    loss_avg_epoch = loss_epoch / (data_count * batch_size * 1.0)\n",
    "    print('epoch:', epoch)\n",
    "    print('loss_avg_epoch:', loss_avg_epoch)"
   ]
  },
  {
   "cell_type": "code",
   "execution_count": null,
   "metadata": {},
   "outputs": [],
   "source": []
  },
  {
   "cell_type": "code",
   "execution_count": null,
   "metadata": {},
   "outputs": [],
   "source": []
  }
 ],
 "metadata": {
  "kernelspec": {
   "display_name": "Python 2",
   "language": "python",
   "name": "python2"
  },
  "language_info": {
   "codemirror_mode": {
    "name": "ipython",
    "version": 2
   },
   "file_extension": ".py",
   "mimetype": "text/x-python",
   "name": "python",
   "nbconvert_exporter": "python",
   "pygments_lexer": "ipython2",
   "version": "2.7.6"
  }
 },
 "nbformat": 4,
 "nbformat_minor": 2
}
