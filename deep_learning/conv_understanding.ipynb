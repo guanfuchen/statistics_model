{
 "cells": [
  {
   "cell_type": "code",
   "execution_count": 1,
   "metadata": {},
   "outputs": [],
   "source": [
    "import torch\n",
    "import numpy as np\n",
    "from torch.nn import Conv2d\n",
    "from torch.autograd import Variable"
   ]
  },
  {
   "cell_type": "code",
   "execution_count": 2,
   "metadata": {},
   "outputs": [],
   "source": [
    "# torch.ones?\n",
    "# Conv2d?"
   ]
  },
  {
   "cell_type": "code",
   "execution_count": 3,
   "metadata": {},
   "outputs": [],
   "source": [
    "# 单通道滤波器卷积过程验证\n",
    "# [Pytorch.nn.conv2d 过程验证（单，多通道卷积过程）](https://zhuanlan.zhihu.com/p/32190799)"
   ]
  },
  {
   "cell_type": "code",
   "execution_count": 4,
   "metadata": {},
   "outputs": [],
   "source": [
    "x = torch.ones(1, 1, 5, 5)"
   ]
  },
  {
   "cell_type": "code",
   "execution_count": 5,
   "metadata": {},
   "outputs": [
    {
     "data": {
      "text/plain": [
       "\n",
       "(0 ,0 ,.,.) = \n",
       "  1  1  1  1  1\n",
       "  1  1  1  1  1\n",
       "  1  1  1  1  1\n",
       "  1  1  1  1  1\n",
       "  1  1  1  1  1\n",
       "[torch.FloatTensor of size 1x1x5x5]"
      ]
     },
     "execution_count": 5,
     "metadata": {},
     "output_type": "execute_result"
    }
   ],
   "source": [
    "x"
   ]
  },
  {
   "cell_type": "code",
   "execution_count": 6,
   "metadata": {},
   "outputs": [],
   "source": [
    "x_var = Variable(x)"
   ]
  },
  {
   "cell_type": "code",
   "execution_count": 7,
   "metadata": {},
   "outputs": [],
   "source": [
    "conv = Conv2d(in_channels=1, out_channels=3, kernel_size=3)"
   ]
  },
  {
   "cell_type": "code",
   "execution_count": 8,
   "metadata": {},
   "outputs": [
    {
     "data": {
      "text/plain": [
       "[Parameter containing:\n",
       " (0 ,0 ,.,.) = \n",
       "   0.0801 -0.0078 -0.1101\n",
       "   0.0619  0.2547 -0.1723\n",
       "  -0.1060  0.1541 -0.2881\n",
       " \n",
       " (1 ,0 ,.,.) = \n",
       "  -0.0403  0.0066  0.0857\n",
       "   0.0494  0.1862  0.1968\n",
       "   0.1279 -0.2024 -0.2668\n",
       " \n",
       " (2 ,0 ,.,.) = \n",
       "  -0.1327 -0.2605  0.2192\n",
       "  -0.2883  0.0635  0.1305\n",
       "  -0.2159 -0.3074  0.3128\n",
       " [torch.FloatTensor of size 3x1x3x3], Parameter containing:\n",
       "  0.2623\n",
       "  0.2903\n",
       "  0.0701\n",
       " [torch.FloatTensor of size 3]]"
      ]
     },
     "execution_count": 8,
     "metadata": {},
     "output_type": "execute_result"
    }
   ],
   "source": [
    "list(conv.parameters())"
   ]
  },
  {
   "cell_type": "code",
   "execution_count": 9,
   "metadata": {},
   "outputs": [],
   "source": [
    "conv_params = list(conv.parameters())"
   ]
  },
  {
   "cell_type": "code",
   "execution_count": 10,
   "metadata": {},
   "outputs": [],
   "source": [
    "conv_weight_params = conv_params[0]"
   ]
  },
  {
   "cell_type": "code",
   "execution_count": 11,
   "metadata": {},
   "outputs": [
    {
     "data": {
      "text/plain": [
       "Parameter containing:\n",
       "(0 ,0 ,.,.) = \n",
       "  0.0801 -0.0078 -0.1101\n",
       "  0.0619  0.2547 -0.1723\n",
       " -0.1060  0.1541 -0.2881\n",
       "\n",
       "(1 ,0 ,.,.) = \n",
       " -0.0403  0.0066  0.0857\n",
       "  0.0494  0.1862  0.1968\n",
       "  0.1279 -0.2024 -0.2668\n",
       "\n",
       "(2 ,0 ,.,.) = \n",
       " -0.1327 -0.2605  0.2192\n",
       " -0.2883  0.0635  0.1305\n",
       " -0.2159 -0.3074  0.3128\n",
       "[torch.FloatTensor of size 3x1x3x3]"
      ]
     },
     "execution_count": 11,
     "metadata": {},
     "output_type": "execute_result"
    }
   ],
   "source": [
    "conv_weight_params"
   ]
  },
  {
   "cell_type": "code",
   "execution_count": 12,
   "metadata": {},
   "outputs": [],
   "source": [
    "conv_bias_params = conv_params[1]"
   ]
  },
  {
   "cell_type": "code",
   "execution_count": 13,
   "metadata": {},
   "outputs": [
    {
     "data": {
      "text/plain": [
       "Parameter containing:\n",
       " 0.2623\n",
       " 0.2903\n",
       " 0.0701\n",
       "[torch.FloatTensor of size 3]"
      ]
     },
     "execution_count": 13,
     "metadata": {},
     "output_type": "execute_result"
    }
   ],
   "source": [
    "conv_bias_params"
   ]
  },
  {
   "cell_type": "code",
   "execution_count": 14,
   "metadata": {},
   "outputs": [
    {
     "data": {
      "text/plain": [
       "Parameter containing:\n",
       "(0 ,0 ,.,.) = \n",
       "  0.0801 -0.0078 -0.1101\n",
       "  0.0619  0.2547 -0.1723\n",
       " -0.1060  0.1541 -0.2881\n",
       "\n",
       "(1 ,0 ,.,.) = \n",
       " -0.0403  0.0066  0.0857\n",
       "  0.0494  0.1862  0.1968\n",
       "  0.1279 -0.2024 -0.2668\n",
       "\n",
       "(2 ,0 ,.,.) = \n",
       " -0.1327 -0.2605  0.2192\n",
       " -0.2883  0.0635  0.1305\n",
       " -0.2159 -0.3074  0.3128\n",
       "[torch.FloatTensor of size 3x1x3x3]"
      ]
     },
     "execution_count": 14,
     "metadata": {},
     "output_type": "execute_result"
    }
   ],
   "source": [
    "conv.weight"
   ]
  },
  {
   "cell_type": "code",
   "execution_count": 15,
   "metadata": {},
   "outputs": [
    {
     "data": {
      "text/plain": [
       "Parameter containing:\n",
       " 0.2623\n",
       " 0.2903\n",
       " 0.0701\n",
       "[torch.FloatTensor of size 3]"
      ]
     },
     "execution_count": 15,
     "metadata": {},
     "output_type": "execute_result"
    }
   ],
   "source": [
    "conv.bias"
   ]
  },
  {
   "cell_type": "code",
   "execution_count": 16,
   "metadata": {},
   "outputs": [],
   "source": [
    "out = conv(x_var)"
   ]
  },
  {
   "cell_type": "code",
   "execution_count": 17,
   "metadata": {},
   "outputs": [
    {
     "data": {
      "text/plain": [
       "Variable containing:\n",
       "(0 ,0 ,.,.) = \n",
       "  0.1288  0.1288  0.1288\n",
       "  0.1288  0.1288  0.1288\n",
       "  0.1288  0.1288  0.1288\n",
       "\n",
       "(0 ,1 ,.,.) = \n",
       "  0.4333  0.4333  0.4333\n",
       "  0.4333  0.4333  0.4333\n",
       "  0.4333  0.4333  0.4333\n",
       "\n",
       "(0 ,2 ,.,.) = \n",
       " -0.4088 -0.4088 -0.4088\n",
       " -0.4088 -0.4088 -0.4088\n",
       " -0.4088 -0.4088 -0.4088\n",
       "[torch.FloatTensor of size 1x3x3x3]"
      ]
     },
     "execution_count": 17,
     "metadata": {},
     "output_type": "execute_result"
    }
   ],
   "source": [
    "out"
   ]
  },
  {
   "cell_type": "code",
   "execution_count": 18,
   "metadata": {},
   "outputs": [],
   "source": [
    "conv_weight_var_0 = conv_weight_params[0]"
   ]
  },
  {
   "cell_type": "code",
   "execution_count": 19,
   "metadata": {},
   "outputs": [],
   "source": [
    "conv_bias_var_0 = conv_bias_params[0]"
   ]
  },
  {
   "cell_type": "code",
   "execution_count": 20,
   "metadata": {},
   "outputs": [],
   "source": [
    "conv_weight_np_0 = conv_weight_var_0.data.numpy()"
   ]
  },
  {
   "cell_type": "code",
   "execution_count": 21,
   "metadata": {},
   "outputs": [],
   "source": [
    "conv_bias_np_0 = conv_bias_var_0.data.numpy()"
   ]
  },
  {
   "cell_type": "code",
   "execution_count": 22,
   "metadata": {},
   "outputs": [
    {
     "data": {
      "text/plain": [
       "array([ 0.12880431], dtype=float32)"
      ]
     },
     "execution_count": 22,
     "metadata": {},
     "output_type": "execute_result"
    }
   ],
   "source": [
    "# 由于输入都是0，所以卷积过程为滤波器之和\n",
    "conv_weight_np_0.sum()+conv_bias_np_0"
   ]
  },
  {
   "cell_type": "code",
   "execution_count": 23,
   "metadata": {},
   "outputs": [],
   "source": [
    "# 多通道滤波器卷积过程验证"
   ]
  },
  {
   "cell_type": "code",
   "execution_count": 24,
   "metadata": {},
   "outputs": [],
   "source": [
    "x = torch.ones(1, 3, 5, 5)"
   ]
  },
  {
   "cell_type": "code",
   "execution_count": 25,
   "metadata": {},
   "outputs": [],
   "source": [
    "x_var = Variable(x)"
   ]
  },
  {
   "cell_type": "code",
   "execution_count": 26,
   "metadata": {},
   "outputs": [],
   "source": [
    "conv = Conv2d(in_channels=3, out_channels=3, kernel_size=3)"
   ]
  },
  {
   "cell_type": "code",
   "execution_count": 27,
   "metadata": {},
   "outputs": [],
   "source": [
    "conv_params = list(conv.parameters())"
   ]
  },
  {
   "cell_type": "code",
   "execution_count": 28,
   "metadata": {},
   "outputs": [
    {
     "data": {
      "text/plain": [
       "[Parameter containing:\n",
       " (0 ,0 ,.,.) = \n",
       "  -0.1611  0.0280 -0.1179\n",
       "   0.1155 -0.1060  0.1443\n",
       "   0.0348  0.0096 -0.1061\n",
       " \n",
       " (0 ,1 ,.,.) = \n",
       "  -0.1550  0.1823  0.1825\n",
       "  -0.1369  0.0494  0.1354\n",
       "  -0.0953  0.1054  0.0058\n",
       " \n",
       " (0 ,2 ,.,.) = \n",
       "  -0.1063  0.0274  0.1474\n",
       "  -0.1296  0.1681 -0.0399\n",
       "   0.1186 -0.1918  0.0115\n",
       " \n",
       " (1 ,0 ,.,.) = \n",
       "   0.1745  0.1262 -0.0483\n",
       "   0.1290 -0.1479  0.0986\n",
       "  -0.1557 -0.1045  0.0201\n",
       " \n",
       " (1 ,1 ,.,.) = \n",
       "  -0.0575  0.1415  0.0676\n",
       "   0.1812  0.1582 -0.1058\n",
       "   0.0197  0.1337  0.1558\n",
       " \n",
       " (1 ,2 ,.,.) = \n",
       "   0.0616 -0.1256 -0.0079\n",
       "  -0.1673 -0.0289  0.1438\n",
       "  -0.1846  0.1271  0.0439\n",
       " \n",
       " (2 ,0 ,.,.) = \n",
       "  -0.1697  0.1622 -0.1503\n",
       "   0.0842 -0.0171  0.1599\n",
       "  -0.1667  0.1725 -0.1770\n",
       " \n",
       " (2 ,1 ,.,.) = \n",
       "  -0.0052 -0.1545 -0.1795\n",
       "  -0.0383  0.0894  0.0885\n",
       "  -0.0807 -0.0282 -0.0371\n",
       " \n",
       " (2 ,2 ,.,.) = \n",
       "   0.1913  0.1321  0.0903\n",
       "   0.1047  0.1150 -0.0891\n",
       "   0.1049  0.0369 -0.0962\n",
       " [torch.FloatTensor of size 3x3x3x3], Parameter containing:\n",
       "  0.1258\n",
       " -0.1337\n",
       " -0.0077\n",
       " [torch.FloatTensor of size 3]]"
      ]
     },
     "execution_count": 28,
     "metadata": {},
     "output_type": "execute_result"
    }
   ],
   "source": [
    "conv_params"
   ]
  },
  {
   "cell_type": "code",
   "execution_count": 29,
   "metadata": {},
   "outputs": [],
   "source": [
    "conv_weight_params = conv_params[0]"
   ]
  },
  {
   "cell_type": "code",
   "execution_count": 30,
   "metadata": {},
   "outputs": [],
   "source": [
    "conv_bias_params = conv_params[1]"
   ]
  },
  {
   "cell_type": "code",
   "execution_count": 31,
   "metadata": {},
   "outputs": [],
   "source": [
    "out = conv(x_var)"
   ]
  },
  {
   "cell_type": "code",
   "execution_count": 32,
   "metadata": {},
   "outputs": [
    {
     "data": {
      "text/plain": [
       "Variable containing:\n",
       "(0 ,0 ,.,.) = \n",
       "  0.2459  0.2459  0.2459\n",
       "  0.2459  0.2459  0.2459\n",
       "  0.2459  0.2459  0.2459\n",
       "\n",
       "(0 ,1 ,.,.) = \n",
       "  0.5146  0.5146  0.5146\n",
       "  0.5146  0.5146  0.5146\n",
       "  0.5146  0.5146  0.5146\n",
       "\n",
       "(0 ,2 ,.,.) = \n",
       "  0.1347  0.1347  0.1347\n",
       "  0.1347  0.1347  0.1347\n",
       "  0.1347  0.1347  0.1347\n",
       "[torch.FloatTensor of size 1x3x3x3]"
      ]
     },
     "execution_count": 32,
     "metadata": {},
     "output_type": "execute_result"
    }
   ],
   "source": [
    "out"
   ]
  },
  {
   "cell_type": "code",
   "execution_count": 33,
   "metadata": {},
   "outputs": [],
   "source": [
    "conv_weight_var_0 = conv_weight_params[0]"
   ]
  },
  {
   "cell_type": "code",
   "execution_count": 34,
   "metadata": {},
   "outputs": [],
   "source": [
    "conv_bias_var_0 = conv_bias_params[0]"
   ]
  },
  {
   "cell_type": "code",
   "execution_count": 35,
   "metadata": {},
   "outputs": [],
   "source": [
    "conv_weight_np_0 = conv_weight_var_0.data.numpy()"
   ]
  },
  {
   "cell_type": "code",
   "execution_count": 36,
   "metadata": {},
   "outputs": [],
   "source": [
    "conv_bias_np_0 = conv_bias_var_0.data.numpy()"
   ]
  },
  {
   "cell_type": "code",
   "execution_count": 37,
   "metadata": {},
   "outputs": [
    {
     "data": {
      "text/plain": [
       "array([ 0.24593472], dtype=float32)"
      ]
     },
     "execution_count": 37,
     "metadata": {},
     "output_type": "execute_result"
    }
   ],
   "source": [
    "conv_weight_np_0.sum()+conv_bias_np_0"
   ]
  }
 ],
 "metadata": {
  "kernelspec": {
   "display_name": "Python 2",
   "language": "python",
   "name": "python2"
  },
  "language_info": {
   "codemirror_mode": {
    "name": "ipython",
    "version": 2
   },
   "file_extension": ".py",
   "mimetype": "text/x-python",
   "name": "python",
   "nbconvert_exporter": "python",
   "pygments_lexer": "ipython2",
   "version": "2.7.6"
  }
 },
 "nbformat": 4,
 "nbformat_minor": 2
}
