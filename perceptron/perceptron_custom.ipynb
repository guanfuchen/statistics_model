{
 "cells": [
  {
   "cell_type": "code",
   "execution_count": 1,
   "metadata": {},
   "outputs": [],
   "source": [
    "from sklearn.datasets import make_classification\n",
    "import matplotlib.pyplot as plt\n",
    "import numpy as np"
   ]
  },
  {
   "cell_type": "code",
   "execution_count": 2,
   "metadata": {},
   "outputs": [],
   "source": [
    "# np.zeros?\n",
    "# make_classification?"
   ]
  },
  {
   "cell_type": "code",
   "execution_count": 3,
   "metadata": {},
   "outputs": [],
   "source": [
    "n_samples = 1000\n",
    "n_features = 2\n",
    "train_rate = 0.8"
   ]
  },
  {
   "cell_type": "code",
   "execution_count": 4,
   "metadata": {},
   "outputs": [],
   "source": [
    "X, y = make_classification(n_samples=n_samples, n_features=n_features, n_informative=2, n_redundant=0, n_clusters_per_class=1)"
   ]
  },
  {
   "cell_type": "code",
   "execution_count": 5,
   "metadata": {},
   "outputs": [],
   "source": [
    "# 原先的正样本为1，负样本为0，将负样本为0改为-1，使其满足感知机推导模型\n",
    "y[y==0]=-1"
   ]
  },
  {
   "cell_type": "code",
   "execution_count": 6,
   "metadata": {},
   "outputs": [],
   "source": [
    "train_split_index = int(train_rate*n_samples)\n",
    "X_train = X[:train_split_index]\n",
    "y_train = y[:train_split_index]\n",
    "\n",
    "X_test= X[train_split_index:]\n",
    "y_test = y[train_split_index:]"
   ]
  },
  {
   "cell_type": "code",
   "execution_count": 7,
   "metadata": {},
   "outputs": [],
   "source": [
    "# X[0]\n",
    "# w = np.zeros(len(X[0]))\n",
    "# w\n",
    "# np.dot(X[0], w)"
   ]
  },
  {
   "cell_type": "code",
   "execution_count": 8,
   "metadata": {},
   "outputs": [],
   "source": [
    "def sign(X):\n",
    "    if X>=0:\n",
    "        return 1\n",
    "    else:\n",
    "        return -1"
   ]
  },
  {
   "cell_type": "code",
   "execution_count": 9,
   "metadata": {},
   "outputs": [],
   "source": [
    "def perceptron_sgd(X, y):\n",
    "    w = np.zeros(len(X[0]))\n",
    "    eta = 1.0\n",
    "    epoch = 100\n",
    "    for t in range(epoch):\n",
    "        for i, x in enumerate(X):\n",
    "            if(np.dot(X[i], w)*y[i])<=0:\n",
    "                w = w + eta*X[i]*y[i]    \n",
    "    return w"
   ]
  },
  {
   "cell_type": "code",
   "execution_count": 10,
   "metadata": {},
   "outputs": [],
   "source": [
    "w = perceptron_sgd(X_train, y_train)"
   ]
  },
  {
   "cell_type": "code",
   "execution_count": 11,
   "metadata": {},
   "outputs": [],
   "source": [
    "wrong_indices = [i for i in range(n_samples) if(np.dot(X[i], w)*y[i])<=0]"
   ]
  },
  {
   "cell_type": "code",
   "execution_count": 12,
   "metadata": {},
   "outputs": [
    {
     "data": {
      "text/plain": [
       "0.083"
      ]
     },
     "execution_count": 12,
     "metadata": {},
     "output_type": "execute_result"
    }
   ],
   "source": [
    "# 误差率\n",
    "len(wrong_indices)*1.0/len(y)"
   ]
  },
  {
   "cell_type": "code",
   "execution_count": 13,
   "metadata": {},
   "outputs": [],
   "source": [
    "# 获取正负样本的X1和X2特征值\n",
    "pos_X_1 = [X[i, 0] for i in range(n_samples) if y[i]==1]\n",
    "pos_X_2 = [X[i, 1] for i in range(n_samples) if y[i]==1]\n",
    "\n",
    "neg_X_1 = [X[i, 0] for i in range(n_samples) if y[i]==-1]\n",
    "neg_X_2 = [X[i, 1] for i in range(n_samples) if y[i]==-1]"
   ]
  },
  {
   "cell_type": "code",
   "execution_count": 14,
   "metadata": {},
   "outputs": [],
   "source": [
    "# 绘制感知机模型分类效果\n",
    "x1_range = np.arange(-4, 4, 0.01)\n",
    "# 感知机模型的精度\n",
    "x2_range = -x1_range*w[0]/w[1]"
   ]
  },
  {
   "cell_type": "code",
   "execution_count": 15,
   "metadata": {},
   "outputs": [
    {
     "data": {
      "text/plain": [
       "[<matplotlib.lines.Line2D at 0x7f148a4613d0>]"
      ]
     },
     "execution_count": 15,
     "metadata": {},
     "output_type": "execute_result"
    },
    {
     "data": {
      "image/png": "[encoded data removed]",
      "text/plain": [
       "<matplotlib.figure.Figure at 0x7f148c513a50>"
      ]
     },
     "metadata": {},
     "output_type": "display_data"
    }
   ],
   "source": [
    "# 绘制正负样本的散点图\n",
    "plt.scatter(pos_X_1, pos_X_2, c = 'r')\n",
    "plt.scatter(neg_X_1, neg_X_2, c= 'b')\n",
    "# 感知机模型分类曲线\n",
    "plt.plot(x1_range, x2_range, c= 'g')"
   ]
  },
  {
   "cell_type": "code",
   "execution_count": 16,
   "metadata": {},
   "outputs": [],
   "source": [
    "# x1_range*w[1]/w[0]"
   ]
  },
  {
   "cell_type": "code",
   "execution_count": null,
   "metadata": {},
   "outputs": [],
   "source": []
  }
 ],
 "metadata": {
  "kernelspec": {
   "display_name": "Python 2",
   "language": "python",
   "name": "python2"
  },
  "language_info": {
   "codemirror_mode": {
    "name": "ipython",
    "version": 2
   },
   "file_extension": ".py",
   "mimetype": "text/x-python",
   "name": "python",
   "nbconvert_exporter": "python",
   "pygments_lexer": "ipython2",
   "version": "2.7.6"
  }
 },
 "nbformat": 4,
 "nbformat_minor": 2
}
