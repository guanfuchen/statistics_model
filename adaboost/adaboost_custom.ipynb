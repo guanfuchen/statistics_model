{
 "cells": [
  {
   "cell_type": "code",
   "execution_count": 1,
   "metadata": {},
   "outputs": [],
   "source": [
    "import numpy as np\n",
    "from sklearn.datasets import make_classification, load_iris, load_digits\n",
    "from sklearn.tree import DecisionTreeClassifier\n",
    "from sklearn.model_selection import train_test_split"
   ]
  },
  {
   "cell_type": "code",
   "execution_count": 2,
   "metadata": {},
   "outputs": [],
   "source": [
    "# make_classification?\n",
    "# DecisionTreeClassifier?\n",
    "# train_test_split?\n",
    "# load_iris?"
   ]
  },
  {
   "cell_type": "code",
   "execution_count": 3,
   "metadata": {},
   "outputs": [],
   "source": [
    "dataset = make_classification(n_samples=10000, n_informative=18,n_features=20, flip_y=0.2, random_state=217)\n",
    "X = dataset[0]\n",
    "y = dataset[1]\n",
    "y[y==0] = -1 # -1和1代表正负样本\n",
    "# dataset = load_digits()\n",
    "# X = dataset.data\n",
    "# y = dataset.target"
   ]
  },
  {
   "cell_type": "code",
   "execution_count": 4,
   "metadata": {},
   "outputs": [],
   "source": [
    "train_X, test_X, train_y, test_y = train_test_split(X, y, test_size=0.33, random_state=42)"
   ]
  },
  {
   "cell_type": "code",
   "execution_count": 5,
   "metadata": {},
   "outputs": [
    {
     "name": "stdout",
     "output_type": "stream",
     "text": [
      "('score:', 0.6581818181818182)\n",
      "('score:', 0.6836363636363636)\n",
      "('score:', 0.71787878787878789)\n",
      "('score:', 0.71060606060606057)\n"
     ]
    }
   ],
   "source": [
    "clfs = []\n",
    "for tree_depth in range(1, 5, 1):\n",
    "    clf = DecisionTreeClassifier(max_depth=tree_depth)\n",
    "    clf.fit(train_X, train_y)\n",
    "    score = clf.score(test_X, test_y)\n",
    "    clfs.append(clf)\n",
    "    print('score:', score)"
   ]
  },
  {
   "cell_type": "code",
   "execution_count": 6,
   "metadata": {},
   "outputs": [],
   "source": [
    "class Adaboost:\n",
    "    def __init__(self, training_X, training_y):\n",
    "        self.training_X = training_X\n",
    "        self.training_y = training_y\n",
    "        self.N = len(self.training_X)\n",
    "        self.weights = np.ones(self.N)/self.N # 数据集初始化权重为平均值\n",
    "        self.RULES = [] # Adaboost集成学习分类器，也就是这里的规则\n",
    "        self.ALPHAS = [] # 对应各个规则的权重，这是Adaboost集成学习训练的目标\n",
    "\n",
    "    def set_rule(self, rule_model):\n",
    "        \"\"\"\n",
    "        增加一个规则，重新训练\n",
    "        \"\"\"\n",
    "        train_y_pred = rule_model.predict(self.training_X)\n",
    "        \n",
    "        error = np.sum(self.weights * (train_y_pred!=self.training_y))\n",
    "#         print('error:', error)\n",
    "        alpha = 0.5*np.log((1-error)/error)\n",
    "#         print('alpha:', alpha)\n",
    "        w = self.weights * np.exp(-alpha*train_y_pred*self.training_y)\n",
    "        self.weights = w/w.sum()\n",
    "#         print('w:', w)\n",
    "        self.RULES.append(rule_model)\n",
    "        self.ALPHAS.append(alpha)\n",
    "        \n",
    "    def evalute(self, testing_X):\n",
    "        test_num = len(testing_X)\n",
    "        testing_y_pred = np.zeros(test_num)\n",
    "        for test_id in range(test_num):\n",
    "            for rule_id, rule in enumerate(self.RULES):\n",
    "                testing_X_sample = testing_X[test_id][np.newaxis, :]\n",
    "                testing_y_pred[test_id] += self.ALPHAS[rule_id]*rule.predict(testing_X_sample)\n",
    "            testing_y_pred[test_id] = np.sign(testing_y_pred[test_id])\n",
    "        return testing_y_pred\n",
    "            "
   ]
  },
  {
   "cell_type": "code",
   "execution_count": 7,
   "metadata": {},
   "outputs": [],
   "source": [
    "model = Adaboost(train_X, train_y)\n",
    "for clf in clfs:\n",
    "    model.set_rule(clf)"
   ]
  },
  {
   "cell_type": "code",
   "execution_count": 8,
   "metadata": {},
   "outputs": [
    {
     "data": {
      "text/plain": [
       "0.69818181818181824"
      ]
     },
     "execution_count": 8,
     "metadata": {},
     "output_type": "execute_result"
    }
   ],
   "source": [
    "np.sum(model.evalute(test_X)==test_y)*1.0/len(test_X)"
   ]
  }
 ],
 "metadata": {
  "kernelspec": {
   "display_name": "Python 2",
   "language": "python",
   "name": "python2"
  },
  "language_info": {
   "codemirror_mode": {
    "name": "ipython",
    "version": 2
   },
   "file_extension": ".py",
   "mimetype": "text/x-python",
   "name": "python",
   "nbconvert_exporter": "python",
   "pygments_lexer": "ipython2",
   "version": "2.7.6"
  }
 },
 "nbformat": 4,
 "nbformat_minor": 2
}
