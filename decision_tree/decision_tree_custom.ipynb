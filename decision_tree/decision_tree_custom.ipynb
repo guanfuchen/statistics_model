{
 "cells": [
  {
   "cell_type": "code",
   "execution_count": 1,
   "metadata": {
    "collapsed": true
   },
   "outputs": [],
   "source": [
    "import os\n",
    "import numpy as np"
   ]
  },
  {
   "cell_type": "code",
   "execution_count": 2,
   "metadata": {},
   "outputs": [],
   "source": [
    "def read_data(dataset_file_name):\n",
    "    dataset_file = open(dataset_file_name, 'rb')\n",
    "    dataset_file_content = dataset_file.readlines()\n",
    "#     print(dataset_file_content[0])\n",
    "    X = []\n",
    "    y = []\n",
    "    X_names = []\n",
    "    y_names = []\n",
    "    feature_name = dataset_file_content[0].strip().split(',')[0:-1]\n",
    "#     print(feature_name)\n",
    "    for dataset_file_content_line in dataset_file_content[1:]:\n",
    "#         print(dataset_file_content_line)\n",
    "        dataset_file_content_line_split = dataset_file_content_line.strip().split(',')[1:]\n",
    "        X_names.append(dataset_file_content_line_split[0:-1])\n",
    "        y_names.append(dataset_file_content_line_split[-1])\n",
    "    X = X_names\n",
    "    y = y_names\n",
    "    dataset_file.close()\n",
    "    X = np.array(X)\n",
    "    y = np.array(y)\n",
    "    return X, y"
   ]
  },
  {
   "cell_type": "code",
   "execution_count": 3,
   "metadata": {
    "collapsed": true
   },
   "outputs": [],
   "source": [
    "dataset_file_name = '../data/decision_tree/watermelon_2_0.txt'"
   ]
  },
  {
   "cell_type": "code",
   "execution_count": 4,
   "metadata": {},
   "outputs": [],
   "source": [
    "X, y = read_data(dataset_file_name)"
   ]
  },
  {
   "cell_type": "code",
   "execution_count": 5,
   "metadata": {},
   "outputs": [],
   "source": [
    "def create_decision_tree(X, y):\n",
    "    # 查看标签是否只有一类，如果只有一类标签那么创建决策树成功\n",
    "    y_unique = np.unique(y)\n",
    "    if len(y_unique)==1:\n",
    "        return y[0]\n",
    "create_decision_tree(X, y)"
   ]
  },
  {
   "cell_type": "code",
   "execution_count": null,
   "metadata": {
    "collapsed": true
   },
   "outputs": [],
   "source": []
  }
 ],
 "metadata": {
  "kernelspec": {
   "display_name": "Python 2",
   "language": "python",
   "name": "python2"
  },
  "language_info": {
   "codemirror_mode": {
    "name": "ipython",
    "version": 2
   },
   "file_extension": ".py",
   "mimetype": "text/x-python",
   "name": "python",
   "nbconvert_exporter": "python",
   "pygments_lexer": "ipython2",
   "version": "2.7.10"
  }
 },
 "nbformat": 4,
 "nbformat_minor": 2
}
