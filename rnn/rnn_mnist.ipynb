{
 "cells": [
  {
   "cell_type": "code",
   "execution_count": 1,
   "metadata": {},
   "outputs": [
    {
     "name": "stderr",
     "output_type": "stream",
     "text": [
      "/usr/local/lib/python2.7/dist-packages/sklearn/cross_validation.py:44: DeprecationWarning: This module was deprecated in version 0.18 in favor of the model_selection module into which all the refactored classes and functions are moved. Also note that the interface of the new CV iterators are different from that of this module. This module will be removed in 0.20.\n",
      "  \"This module will be removed in 0.20.\", DeprecationWarning)\n"
     ]
    }
   ],
   "source": [
    "import torch\n",
    "import numpy as np\n",
    "from sklearn.datasets import load_digits\n",
    "from sklearn.cross_validation import train_test_split\n",
    "import matplotlib.pyplot as plt\n",
    "from torch import nn\n",
    "from torch.autograd import Variable\n",
    "from torch.optim import SGD"
   ]
  },
  {
   "cell_type": "code",
   "execution_count": 2,
   "metadata": {},
   "outputs": [],
   "source": [
    "# nn.RNN?\n",
    "# train_test_split?\n",
    "# SGD?\n",
    "# nn.CrossEntropyLoss?\n",
    "# nn.LSTM?\n",
    "# np.where?"
   ]
  },
  {
   "cell_type": "code",
   "execution_count": 3,
   "metadata": {},
   "outputs": [],
   "source": [
    "all_epoches = 1000"
   ]
  },
  {
   "cell_type": "code",
   "execution_count": 4,
   "metadata": {},
   "outputs": [],
   "source": [
    "digits = load_digits()"
   ]
  },
  {
   "cell_type": "code",
   "execution_count": 5,
   "metadata": {},
   "outputs": [],
   "source": [
    "X = digits.data\n",
    "X = X.astype(np.float32)"
   ]
  },
  {
   "cell_type": "code",
   "execution_count": 6,
   "metadata": {},
   "outputs": [
    {
     "data": {
      "text/plain": [
       "(1797, 64)"
      ]
     },
     "execution_count": 6,
     "metadata": {},
     "output_type": "execute_result"
    }
   ],
   "source": [
    "X.shape"
   ]
  },
  {
   "cell_type": "code",
   "execution_count": 7,
   "metadata": {},
   "outputs": [],
   "source": [
    "X = X.reshape(-1, 8, 8)"
   ]
  },
  {
   "cell_type": "code",
   "execution_count": 8,
   "metadata": {},
   "outputs": [],
   "source": [
    "X_0 = X[1, :]"
   ]
  },
  {
   "cell_type": "code",
   "execution_count": 9,
   "metadata": {},
   "outputs": [
    {
     "data": {
      "text/plain": [
       "(8, 8)"
      ]
     },
     "execution_count": 9,
     "metadata": {},
     "output_type": "execute_result"
    }
   ],
   "source": [
    "X_0.shape"
   ]
  },
  {
   "cell_type": "code",
   "execution_count": 10,
   "metadata": {},
   "outputs": [
    {
     "data": {
      "text/plain": [
       "<matplotlib.image.AxesImage at 0x7f5bc24ce7d0>"
      ]
     },
     "execution_count": 10,
     "metadata": {},
     "output_type": "execute_result"
    },
    {
     "data": {
      "image/png": "[encoded data removed]",
      "text/plain": [
       "<matplotlib.figure.Figure at 0x7f5bc4530550>"
      ]
     },
     "metadata": {},
     "output_type": "display_data"
    }
   ],
   "source": [
    "plt.imshow(X_0, cmap='gray')"
   ]
  },
  {
   "cell_type": "code",
   "execution_count": 11,
   "metadata": {},
   "outputs": [],
   "source": [
    "y = digits.target\n",
    "y = y.astype(np.int)"
   ]
  },
  {
   "cell_type": "code",
   "execution_count": 12,
   "metadata": {},
   "outputs": [
    {
     "data": {
      "text/plain": [
       "(1797,)"
      ]
     },
     "execution_count": 12,
     "metadata": {},
     "output_type": "execute_result"
    }
   ],
   "source": [
    "y.shape"
   ]
  },
  {
   "cell_type": "code",
   "execution_count": 13,
   "metadata": {},
   "outputs": [],
   "source": [
    "y_0 = y[1]"
   ]
  },
  {
   "cell_type": "code",
   "execution_count": 14,
   "metadata": {},
   "outputs": [
    {
     "data": {
      "text/plain": [
       "1"
      ]
     },
     "execution_count": 14,
     "metadata": {},
     "output_type": "execute_result"
    }
   ],
   "source": [
    "y_0"
   ]
  },
  {
   "cell_type": "code",
   "execution_count": 15,
   "metadata": {},
   "outputs": [],
   "source": [
    "class rnn_mnist_net(nn.Module):\n",
    "    def __init__(self):\n",
    "        super(rnn_mnist_net, self).__init__()\n",
    "        self.input_size = 8\n",
    "        self.hidden_size = 20\n",
    "        self.output_size = 10\n",
    "        self.num_layers = 3\n",
    "        self.bidirectional = True\n",
    "        self.rnn_out_bi = 1\n",
    "        # 其中num_layers表示深度，bidirectional表示双向\n",
    "        self.rnn = nn.RNN(input_size=self.input_size, hidden_size=self.hidden_size, num_layers=self.num_layers, bidirectional=self.bidirectional, dropout=0.5)\n",
    "        if self.bidirectional:\n",
    "            self.rnn_out_bi = 2\n",
    "        self.linear = nn.Linear(in_features=self.hidden_size*self.rnn_out_bi, out_features=self.output_size)\n",
    "        pass\n",
    "    def forward(self, x):\n",
    "        \"\"\"\n",
    "        x: seq_len*batch_size*input_size\n",
    "        \"\"\"\n",
    "        self.seq_len, self.batch_size, self.input_size = x.size()\n",
    "#         print('self.seq_len:', self.seq_len)\n",
    "#         print('self.batch_size:', self.batch_size)\n",
    "#         print('self.input_size:', self.input_size)\n",
    "#         x = Variable(torch.randn(5, 3, 10))\n",
    "        \n",
    "#         if self.rnn_hidden is None:\n",
    "#             self.rnn_hidden = Variable(torch.randn((self.num_layers, self.batch_size, self.hidden_size)))\n",
    "        out, _ = self.rnn(x) # rnn_out seq_len*batch_size*hidden_size\n",
    "        out = out[-1, :, :]\n",
    "        out = self.linear(out)\n",
    "        return out    \n"
   ]
  },
  {
   "cell_type": "code",
   "execution_count": 16,
   "metadata": {},
   "outputs": [],
   "source": [
    "def int_to_onehot(int_data, onehot_class):\n",
    "    \"\"\"\n",
    "    int_data:(batch_size,)\n",
    "    out_onehot:(batch_size, onehot_class)\n",
    "    \"\"\"\n",
    "    batch_size = int_data.shape[0]\n",
    "    out_onehot = np.zeros((batch_size, onehot_class)).astype(int_data.dtype)\n",
    "    for batch_i in range(batch_size):\n",
    "        int_data_batch_i = int_data[batch_i]\n",
    "        out_onehot_batch_i = out_onehot[batch_i]\n",
    "        out_onehot_batch_i[int_data_batch_i] = 1\n",
    "    return out_onehot"
   ]
  },
  {
   "cell_type": "code",
   "execution_count": 17,
   "metadata": {},
   "outputs": [],
   "source": [
    "def onehot_to_int(out_onehot):\n",
    "    \"\"\"\n",
    "    int_data:(batch_size,)\n",
    "    out_onehot:(batch_size, onehot_class)\n",
    "    \"\"\"\n",
    "    batch_size = out_onehot.shape[0]\n",
    "    int_data = np.zeros((batch_size)).astype(out_onehot.dtype)\n",
    "    for batch_i in range(batch_size):\n",
    "        out_onehot_batch_i = out_onehot[batch_i]\n",
    "        int_data[batch_i] = np.where(out_onehot_batch_i==1)[0][0]\n",
    "    return int_data"
   ]
  },
  {
   "cell_type": "code",
   "execution_count": 18,
   "metadata": {},
   "outputs": [],
   "source": [
    "# y_one_hot = int_to_onehot(y, 10)"
   ]
  },
  {
   "cell_type": "code",
   "execution_count": 19,
   "metadata": {},
   "outputs": [],
   "source": [
    "# y_int = onehot_to_int(y_one_hot)"
   ]
  },
  {
   "cell_type": "code",
   "execution_count": 20,
   "metadata": {},
   "outputs": [],
   "source": [
    "X_train, X_test, y_train, y_test = train_test_split(X, y, test_size=0.33, random_state=42)"
   ]
  },
  {
   "cell_type": "code",
   "execution_count": 21,
   "metadata": {},
   "outputs": [
    {
     "data": {
      "text/plain": [
       "dtype('float32')"
      ]
     },
     "execution_count": 21,
     "metadata": {},
     "output_type": "execute_result"
    }
   ],
   "source": [
    "X_train.dtype"
   ]
  },
  {
   "cell_type": "code",
   "execution_count": 22,
   "metadata": {},
   "outputs": [
    {
     "data": {
      "text/plain": [
       "dtype('int64')"
      ]
     },
     "execution_count": 22,
     "metadata": {},
     "output_type": "execute_result"
    }
   ],
   "source": [
    "y_train.dtype"
   ]
  },
  {
   "cell_type": "code",
   "execution_count": 23,
   "metadata": {},
   "outputs": [],
   "source": [
    "# seq_len first\n",
    "X_train = X_train.transpose((1, 0, 2))\n",
    "X_test = X_test.transpose((1, 0, 2))"
   ]
  },
  {
   "cell_type": "code",
   "execution_count": 24,
   "metadata": {},
   "outputs": [],
   "source": [
    "X_train_var = Variable(torch.from_numpy(X_train), requires_grad=True)\n",
    "y_train_var = Variable(torch.from_numpy(y_train))\n",
    "X_test_var = Variable(torch.from_numpy(X_test))\n",
    "y_test_var = Variable(torch.from_numpy(y_test))"
   ]
  },
  {
   "cell_type": "code",
   "execution_count": 25,
   "metadata": {},
   "outputs": [],
   "source": [
    "rnn_net = rnn_mnist_net()"
   ]
  },
  {
   "cell_type": "code",
   "execution_count": 26,
   "metadata": {},
   "outputs": [],
   "source": [
    "criterion = nn.CrossEntropyLoss()"
   ]
  },
  {
   "cell_type": "code",
   "execution_count": 27,
   "metadata": {},
   "outputs": [],
   "source": [
    "optimizer = torch.optim.SGD(rnn_net.parameters(), lr=0.1, momentum=0.9)"
   ]
  },
  {
   "cell_type": "code",
   "execution_count": 28,
   "metadata": {},
   "outputs": [],
   "source": [
    "loss_rnn_list = []\n",
    "loss_rnn_test_list = []\n",
    "for epoch in range(all_epoches):\n",
    "    optimizer.zero_grad()\n",
    "    y_train_pred_var = rnn_net(X_train_var)\n",
    "#     print('y_train_pred_var.size():', y_train_pred_var.size())\n",
    "#     print('y_train_var.size():', y_train_var.size())\n",
    "    loss = criterion(y_train_pred_var, y_train_var)\n",
    "#     print('loss.size():', loss.size())\n",
    "    if epoch%1==0:\n",
    "        loss_np = loss.data.numpy()\n",
    "        loss_rnn_list.append(loss_np)\n",
    "        \n",
    "        y_test_pred_var = rnn_net(X_test_var)\n",
    "        loss_test = criterion(y_test_pred_var, y_test_var)\n",
    "        loss_test_np = loss_test.data.numpy()\n",
    "        loss_rnn_test_list.append(loss_test_np)\n",
    "#         print('loss_np:', loss_np)\n",
    "    loss.backward()\n",
    "    optimizer.step()\n",
    "loss_rnn_list = np.array(loss_rnn_list)\n",
    "loss_rnn_test_list = np.array(loss_rnn_test_list)"
   ]
  },
  {
   "cell_type": "code",
   "execution_count": 29,
   "metadata": {},
   "outputs": [],
   "source": [
    "class lstm_mnist_net(nn.Module):\n",
    "    def __init__(self):\n",
    "        super(lstm_mnist_net, self).__init__()\n",
    "        self.input_size = 8\n",
    "        self.hidden_size = 20\n",
    "        self.output_size = 10\n",
    "        self.num_layers = 1\n",
    "        self.bidirectional = False\n",
    "        self.lstm_out_bi = 1\n",
    "        # 其中num_layers表示深度，bidirectional表示双向\n",
    "        self.lstm = nn.LSTM(input_size=self.input_size, hidden_size=self.hidden_size, num_layers=self.num_layers, bidirectional=self.bidirectional)\n",
    "        if self.bidirectional:\n",
    "            self.lstm_out_bi = 2\n",
    "        self.linear = nn.Linear(in_features=self.hidden_size*self.lstm_out_bi, out_features=self.output_size)\n",
    "        pass\n",
    "    def forward(self, x):\n",
    "        \"\"\"\n",
    "        x: seq_len*batch_size*input_size\n",
    "        \"\"\"\n",
    "        self.seq_len, self.batch_size, self.input_size = x.size()\n",
    "        out, _ = self.lstm(x) # rnn_out seq_len*batch_size*hidden_size\n",
    "        out = out[-1, :, :]\n",
    "        out = self.linear(out)\n",
    "        return out"
   ]
  },
  {
   "cell_type": "code",
   "execution_count": 30,
   "metadata": {},
   "outputs": [],
   "source": [
    "lstm_net = lstm_mnist_net()\n",
    "criterion = nn.CrossEntropyLoss()\n",
    "optimizer = torch.optim.SGD(lstm_net.parameters(), lr=0.1, momentum=0.9)"
   ]
  },
  {
   "cell_type": "code",
   "execution_count": 31,
   "metadata": {},
   "outputs": [],
   "source": [
    "loss_lstm_list = []\n",
    "loss_lstm_test_list = []\n",
    "for epoch in range(all_epoches):\n",
    "    optimizer.zero_grad()\n",
    "    y_train_pred_var = lstm_net(X_train_var)\n",
    "#     print('y_train_pred_var.size():', y_train_pred_var.size())\n",
    "#     print('y_train_var.size():', y_train_var.size())\n",
    "    loss = criterion(y_train_pred_var, y_train_var)\n",
    "#     print('loss.size():', loss.size())\n",
    "    if epoch%1==0:\n",
    "        loss_np = loss.data.numpy()\n",
    "        loss_lstm_list.append(loss_np)\n",
    "        \n",
    "        y_test_pred_var = lstm_net(X_test_var)\n",
    "        loss_test = criterion(y_test_pred_var, y_test_var)\n",
    "        loss_test_np = loss_test.data.numpy()\n",
    "        loss_lstm_test_list.append(loss_test_np)\n",
    "#         print('loss_np:', loss_np)\n",
    "    loss.backward()\n",
    "    optimizer.step()\n",
    "loss_lstm_list = np.array(loss_lstm_list)\n",
    "loss_lstm_test_list = np.array(loss_lstm_test_list)"
   ]
  },
  {
   "cell_type": "code",
   "execution_count": 32,
   "metadata": {},
   "outputs": [
    {
     "data": {
      "text/plain": [
       "<matplotlib.legend.Legend at 0x7f5bc008a590>"
      ]
     },
     "execution_count": 32,
     "metadata": {},
     "output_type": "execute_result"
    },
    {
     "data": {
      "image/png": "[encoded data removed]",
      "text/plain": [
       "<matplotlib.figure.Figure at 0x7f5bc244c190>"
      ]
     },
     "metadata": {},
     "output_type": "display_data"
    }
   ],
   "source": [
    "plt.plot(loss_rnn_list, label='rnn train')\n",
    "plt.plot(loss_lstm_list, label='lstm train')\n",
    "plt.plot(loss_rnn_test_list, label='rnn test')\n",
    "plt.plot(loss_lstm_test_list, label='lstm test')\n",
    "plt.legend()"
   ]
  },
  {
   "cell_type": "code",
   "execution_count": 33,
   "metadata": {},
   "outputs": [
    {
     "name": "stdout",
     "output_type": "stream",
     "text": [
      "('acc_rnn:', 0.95286195286195285)\n"
     ]
    }
   ],
   "source": [
    "test_sample_num = y_test.shape[0]\n",
    "\n",
    "y_test_pred_var = rnn_net(X_test_var)\n",
    "y_test_pred_var_np = y_test_pred_var.data.numpy()\n",
    "\n",
    "y_test_pred_var_np_int = y_test_pred_var_np.argmax(axis=1)\n",
    "acc_rnn = np.sum(y_test_pred_var_np_int == y_test) * 1.0 /test_sample_num\n",
    "print('acc_rnn:', acc_rnn)"
   ]
  },
  {
   "cell_type": "code",
   "execution_count": 34,
   "metadata": {},
   "outputs": [
    {
     "name": "stdout",
     "output_type": "stream",
     "text": [
      "('acc_lstm:', 0.89393939393939392)\n"
     ]
    }
   ],
   "source": [
    "test_sample_num = y_test.shape[0]\n",
    "\n",
    "y_test_pred_var = lstm_net(X_test_var)\n",
    "y_test_pred_var_np = y_test_pred_var.data.numpy()\n",
    "\n",
    "y_test_pred_var_np_int = y_test_pred_var_np.argmax(axis=1)\n",
    "acc_lstm = np.sum(y_test_pred_var_np_int == y_test) * 1.0 /test_sample_num\n",
    "print('acc_lstm:', acc_lstm)"
   ]
  }
 ],
 "metadata": {
  "kernelspec": {
   "display_name": "Python 2",
   "language": "python",
   "name": "python2"
  },
  "language_info": {
   "codemirror_mode": {
    "name": "ipython",
    "version": 2
   },
   "file_extension": ".py",
   "mimetype": "text/x-python",
   "name": "python",
   "nbconvert_exporter": "python",
   "pygments_lexer": "ipython2",
   "version": "2.7.6"
  }
 },
 "nbformat": 4,
 "nbformat_minor": 2
}
