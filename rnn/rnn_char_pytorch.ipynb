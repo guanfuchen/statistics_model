{
 "cells": [
  {
   "cell_type": "code",
   "execution_count": 1,
   "metadata": {},
   "outputs": [],
   "source": [
    "import torch\n",
    "from torch import nn\n",
    "from torch.autograd import Variable\n",
    "from torch import optim"
   ]
  },
  {
   "cell_type": "code",
   "execution_count": 2,
   "metadata": {},
   "outputs": [],
   "source": [
    "# torch.randn((2,1))\n",
    "# optim.SGD?\n",
    "# nn.CrossEntropyLoss?\n",
    "# torch.rand?"
   ]
  },
  {
   "cell_type": "code",
   "execution_count": 3,
   "metadata": {},
   "outputs": [],
   "source": [
    "class RNN(nn.Module):\n",
    "\n",
    "    # you can also accept arguments in your model constructor\n",
    "    def __init__(self, X_size, H_size, Y_size):\n",
    "        super(RNN, self).__init__()\n",
    "\n",
    "        self.X_size = X_size\n",
    "        self.H_size = H_size\n",
    "        self.Y_size = Y_size\n",
    "        self.z_size = self.X_size + self.H_size\n",
    "        \n",
    "        self.i2h = nn.Linear(self.z_size, self.H_size)\n",
    "        self.i2o = nn.Linear(self.z_size, self.Y_size)\n",
    "\n",
    "    def forward(self, x, hidden_prev):\n",
    "        z = torch.squeeze(torch.cat((x, hidden_prev)))\n",
    "        hidden = self.i2h(z)\n",
    "        y = self.i2o(z)\n",
    "        return y, hidden\n",
    "    \n",
    "    def init_hidden(self):\n",
    "        return Variable(torch.zeros((self.H_size)))\n",
    "        "
   ]
  },
  {
   "cell_type": "code",
   "execution_count": 4,
   "metadata": {},
   "outputs": [],
   "source": [
    "X_size = 50\n",
    "H_size = 20\n",
    "Y_size = 10\n",
    "TIMES = 10"
   ]
  },
  {
   "cell_type": "code",
   "execution_count": 5,
   "metadata": {},
   "outputs": [],
   "source": [
    "rnn = RNN(X_size, H_size, Y_size)"
   ]
  },
  {
   "cell_type": "code",
   "execution_count": 6,
   "metadata": {},
   "outputs": [
    {
     "name": "stdout",
     "output_type": "stream",
     "text": [
      "epoch:0, loss:0.692116379738\n",
      "epoch:50, loss:0.595489561558\n"
     ]
    }
   ],
   "source": [
    "hidden = rnn.init_hidden()\n",
    "x = Variable(torch.randn((TIMES, X_size)), requires_grad=True)\n",
    "y = Variable(torch.rand((TIMES, Y_size)))\n",
    "y_hat = Variable(torch.randn((TIMES, Y_size)))\n",
    "\n",
    "criterion = nn.MSELoss() # loss\n",
    "\n",
    "optimizer = optim.SGD(rnn.parameters(), lr=0.001)\n",
    "\n",
    "\n",
    "for epoch in range(100):\n",
    "    # 前向传播\n",
    "    rnn.zero_grad()\n",
    "    for t in range(TIMES):\n",
    "        y_hat[t], hidden = rnn(x[t], hidden)\n",
    "#         print('y_hat.size:', y_hat.size())\n",
    "    loss = criterion(y_hat, y)\n",
    "    if epoch%50==0:\n",
    "        print('epoch:{}, loss:{}'.format(epoch, loss.data.numpy()[0]))\n",
    "    loss.backward(retain_graph=True)\n",
    "    optimizer.step()"
   ]
  },
  {
   "cell_type": "code",
   "execution_count": null,
   "metadata": {},
   "outputs": [],
   "source": []
  }
 ],
 "metadata": {
  "kernelspec": {
   "display_name": "Python 2",
   "language": "python",
   "name": "python2"
  },
  "language_info": {
   "codemirror_mode": {
    "name": "ipython",
    "version": 2
   },
   "file_extension": ".py",
   "mimetype": "text/x-python",
   "name": "python",
   "nbconvert_exporter": "python",
   "pygments_lexer": "ipython2",
   "version": "2.7.10"
  }
 },
 "nbformat": 4,
 "nbformat_minor": 2
}
