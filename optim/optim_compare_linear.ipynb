{
 "cells": [
  {
   "cell_type": "code",
   "execution_count": 1,
   "metadata": {},
   "outputs": [],
   "source": [
    "import torch\n",
    "from torch import optim\n",
    "from torch.autograd import Variable\n",
    "import numpy as np\n",
    "import matplotlib.pyplot as plt"
   ]
  },
  {
   "cell_type": "code",
   "execution_count": 2,
   "metadata": {},
   "outputs": [],
   "source": [
    "# [Minimal working example of optim.SGD](https://discuss.pytorch.org/t/minimal-working-example-of-optim-sgd/11623)\n",
    "# [PyTorch批训练及优化器比较](https://blog.csdn.net/marsjhao/article/details/72055310)\n",
    "# torch.randn?\n",
    "# optim.SGD?\n",
    "# Variable?\n",
    "# plt.plot?\n",
    "# torch.FloatTensor?\n",
    "# optim.Adagrad?"
   ]
  },
  {
   "cell_type": "code",
   "execution_count": 3,
   "metadata": {},
   "outputs": [],
   "source": [
    "N = 200"
   ]
  },
  {
   "cell_type": "code",
   "execution_count": 4,
   "metadata": {},
   "outputs": [],
   "source": [
    "x_tensor = torch.randn(N, 1)"
   ]
  },
  {
   "cell_type": "code",
   "execution_count": 5,
   "metadata": {},
   "outputs": [],
   "source": [
    "x_variable = Variable(x_tensor)"
   ]
  },
  {
   "cell_type": "code",
   "execution_count": 6,
   "metadata": {},
   "outputs": [],
   "source": [
    "x_np = x_tensor.numpy()"
   ]
  },
  {
   "cell_type": "code",
   "execution_count": 7,
   "metadata": {},
   "outputs": [
    {
     "data": {
      "text/plain": [
       "(200, 1)"
      ]
     },
     "execution_count": 7,
     "metadata": {},
     "output_type": "execute_result"
    }
   ],
   "source": [
    "x_np.shape"
   ]
  },
  {
   "cell_type": "code",
   "execution_count": 8,
   "metadata": {},
   "outputs": [],
   "source": [
    "y_np = 3 * x_np + 2"
   ]
  },
  {
   "cell_type": "code",
   "execution_count": 9,
   "metadata": {},
   "outputs": [],
   "source": [
    "y_tensor = torch.FloatTensor(y_np)"
   ]
  },
  {
   "cell_type": "code",
   "execution_count": 10,
   "metadata": {},
   "outputs": [],
   "source": [
    "y_variable = Variable(y_tensor, requires_grad=False)"
   ]
  },
  {
   "cell_type": "code",
   "execution_count": 11,
   "metadata": {},
   "outputs": [
    {
     "data": {
      "text/plain": [
       "(200, 1)"
      ]
     },
     "execution_count": 11,
     "metadata": {},
     "output_type": "execute_result"
    }
   ],
   "source": [
    "y_np.shape"
   ]
  },
  {
   "cell_type": "code",
   "execution_count": 12,
   "metadata": {},
   "outputs": [],
   "source": [
    "# w = Variable(torch.randn(1, 1), requires_grad=True)\n",
    "# b = Variable(torch.randn(1), requires_grad=True)"
   ]
  },
  {
   "cell_type": "code",
   "execution_count": 13,
   "metadata": {},
   "outputs": [],
   "source": [
    "# w_init = torch.randn(1, 1)\n",
    "# b_init = torch.randn(1)"
   ]
  },
  {
   "cell_type": "code",
   "execution_count": 14,
   "metadata": {},
   "outputs": [],
   "source": [
    "epoches = 100\n",
    "x_epoch_time = range(epoches)"
   ]
  },
  {
   "cell_type": "code",
   "execution_count": 15,
   "metadata": {},
   "outputs": [
    {
     "name": "stdout",
     "output_type": "stream",
     "text": [
      "('w:', Variable containing:\n",
      "-2.9718\n",
      "[torch.FloatTensor of size 1x1]\n",
      ")\n",
      "('b:', Variable containing:\n",
      " 1.7070\n",
      "[torch.FloatTensor of size 1]\n",
      ")\n"
     ]
    },
    {
     "data": {
      "text/plain": [
       "[<matplotlib.lines.Line2D at 0x7fe775dca510>]"
      ]
     },
     "execution_count": 15,
     "metadata": {},
     "output_type": "execute_result"
    },
    {
     "data": {
      "image/png": "[encoded data removed]",
      "text/plain": [
       "<matplotlib.figure.Figure at 0x7fe741d87850>"
      ]
     },
     "metadata": {},
     "output_type": "display_data"
    }
   ],
   "source": [
    "torch.manual_seed(1)\n",
    "w = Variable(torch.randn(1, 1), requires_grad=True)\n",
    "b = Variable(torch.randn(1), requires_grad=True)\n",
    "print('w:', w)\n",
    "print('b:', b)\n",
    "\n",
    "sgd_losses = []\n",
    "\n",
    "optimizer = optim.SGD([w, b], lr=0.1)\n",
    "\n",
    "for epoch in range(epoches):\n",
    "    optimizer.zero_grad()\n",
    "    \n",
    "    y_pred = torch.matmul(x_variable, w) + b\n",
    "    # 均方差误差\n",
    "    loss = ((y_pred-y_variable)**2).mean()\n",
    "    loss.backward()\n",
    "    optimizer.step()\n",
    "#     print('loss:', loss)\n",
    "    loss_np = loss.data.numpy()\n",
    "    sgd_losses.append(loss_np)\n",
    "    \n",
    "plt.plot(x_epoch_time, sgd_losses)"
   ]
  },
  {
   "cell_type": "code",
   "execution_count": 16,
   "metadata": {},
   "outputs": [
    {
     "data": {
      "text/plain": [
       "[<matplotlib.lines.Line2D at 0x7fe742023f10>]"
      ]
     },
     "execution_count": 16,
     "metadata": {},
     "output_type": "execute_result"
    },
    {
     "data": {
      "image/png": "[encoded data removed]",
      "text/plain": [
       "<matplotlib.figure.Figure at 0x7fe741d87810>"
      ]
     },
     "metadata": {},
     "output_type": "display_data"
    }
   ],
   "source": [
    "torch.manual_seed(1)\n",
    "w = Variable(torch.randn(1, 1), requires_grad=True)\n",
    "b = Variable(torch.randn(1), requires_grad=True)\n",
    "# print('w:', w)\n",
    "# print('b:', b)\n",
    "\n",
    "sgd_momentum_losses = []\n",
    "\n",
    "optimizer = optim.SGD([w, b], lr=0.1, momentum=0.9)\n",
    "\n",
    "for epoch in range(epoches):\n",
    "    optimizer.zero_grad()\n",
    "    \n",
    "    y_pred = torch.matmul(x_variable, w) + b\n",
    "    # 均方差误差\n",
    "    loss = ((y_pred-y_variable)**2).mean()\n",
    "    loss.backward()\n",
    "    optimizer.step()\n",
    "#     print('loss:', loss)\n",
    "    loss_np = loss.data.numpy()\n",
    "    sgd_momentum_losses.append(loss_np)\n",
    "    \n",
    "plt.plot(x_epoch_time, sgd_momentum_losses)"
   ]
  },
  {
   "cell_type": "code",
   "execution_count": 17,
   "metadata": {},
   "outputs": [
    {
     "data": {
      "text/plain": [
       "[<matplotlib.lines.Line2D at 0x7fe775dca150>]"
      ]
     },
     "execution_count": 17,
     "metadata": {},
     "output_type": "execute_result"
    },
    {
     "data": {
      "image/png": "[encoded data removed]",
      "text/plain": [
       "<matplotlib.figure.Figure at 0x7fe73f3ff090>"
      ]
     },
     "metadata": {},
     "output_type": "display_data"
    }
   ],
   "source": [
    "torch.manual_seed(1)\n",
    "w = Variable(torch.randn(1, 1), requires_grad=True)\n",
    "b = Variable(torch.randn(1), requires_grad=True)\n",
    "# print('w:', w)\n",
    "# print('b:', b)\n",
    "\n",
    "adagrad_losses = []\n",
    "\n",
    "optimizer = optim.Adagrad([w, b], lr=0.1)\n",
    "\n",
    "for epoch in range(epoches):\n",
    "    optimizer.zero_grad()\n",
    "    y_pred = torch.matmul(x_variable, w) + b\n",
    "    # 均方差误差\n",
    "    loss = ((y_pred-y_variable)**2).mean()\n",
    "    loss.backward()\n",
    "    optimizer.step()\n",
    "#     print('loss:', loss)\n",
    "    loss_np = loss.data.numpy()\n",
    "    adagrad_losses.append(loss_np)\n",
    "    \n",
    "plt.plot(x_epoch_time, adagrad_losses)"
   ]
  },
  {
   "cell_type": "code",
   "execution_count": 18,
   "metadata": {},
   "outputs": [
    {
     "data": {
      "text/plain": [
       "[<matplotlib.lines.Line2D at 0x7fe77c612d90>]"
      ]
     },
     "execution_count": 18,
     "metadata": {},
     "output_type": "execute_result"
    },
    {
     "data": {
      "image/png": "[encoded data removed]",
      "text/plain": [
       "<matplotlib.figure.Figure at 0x7fe73f3ff690>"
      ]
     },
     "metadata": {},
     "output_type": "display_data"
    }
   ],
   "source": [
    "torch.manual_seed(1)\n",
    "w = Variable(torch.randn(1, 1), requires_grad=True)\n",
    "b = Variable(torch.randn(1), requires_grad=True)\n",
    "# print('w:', w)\n",
    "# print('b:', b)\n",
    "\n",
    "adadelta_losses = []\n",
    "\n",
    "optimizer = optim.Adadelta([w, b], lr=0.1)\n",
    "\n",
    "for epoch in range(epoches):\n",
    "    optimizer.zero_grad()\n",
    "    y_pred = torch.matmul(x_variable, w) + b\n",
    "    # 均方差误差\n",
    "    loss = ((y_pred-y_variable)**2).mean()\n",
    "    loss.backward()\n",
    "    optimizer.step()\n",
    "#     print('loss:', loss)\n",
    "    loss_np = loss.data.numpy()\n",
    "    adadelta_losses.append(loss_np)\n",
    "    \n",
    "plt.plot(x_epoch_time, adadelta_losses)"
   ]
  },
  {
   "cell_type": "code",
   "execution_count": 19,
   "metadata": {},
   "outputs": [
    {
     "data": {
      "text/plain": [
       "[<matplotlib.lines.Line2D at 0x7fe775dcac10>]"
      ]
     },
     "execution_count": 19,
     "metadata": {},
     "output_type": "execute_result"
    },
    {
     "data": {
      "image/png": "[encoded data removed]",
      "text/plain": [
       "<matplotlib.figure.Figure at 0x7fe73f268c10>"
      ]
     },
     "metadata": {},
     "output_type": "display_data"
    }
   ],
   "source": [
    "torch.manual_seed(1)\n",
    "w = Variable(torch.randn(1, 1), requires_grad=True)\n",
    "b = Variable(torch.randn(1), requires_grad=True)\n",
    "# print('w:', w)\n",
    "# print('b:', b)\n",
    "\n",
    "rms_prop_losses = []\n",
    "\n",
    "optimizer = optim.RMSprop([w, b], lr=0.1)\n",
    "\n",
    "for epoch in range(epoches):\n",
    "    optimizer.zero_grad()\n",
    "    y_pred = torch.matmul(x_variable, w) + b\n",
    "    # 均方差误差\n",
    "    loss = ((y_pred-y_variable)**2).mean()\n",
    "    loss.backward()\n",
    "    optimizer.step()\n",
    "#     print('loss:', loss)\n",
    "    loss_np = loss.data.numpy()\n",
    "    rms_prop_losses.append(loss_np)\n",
    "    \n",
    "plt.plot(x_epoch_time, rms_prop_losses)"
   ]
  },
  {
   "cell_type": "code",
   "execution_count": 20,
   "metadata": {},
   "outputs": [
    {
     "data": {
      "text/plain": [
       "[<matplotlib.lines.Line2D at 0x7fe73f444b50>]"
      ]
     },
     "execution_count": 20,
     "metadata": {},
     "output_type": "execute_result"
    },
    {
     "data": {
      "image/png": "[encoded data removed]",
      "text/plain": [
       "<matplotlib.figure.Figure at 0x7fe73f19da50>"
      ]
     },
     "metadata": {},
     "output_type": "display_data"
    }
   ],
   "source": [
    "torch.manual_seed(1)\n",
    "w = Variable(torch.randn(1, 1), requires_grad=True)\n",
    "b = Variable(torch.randn(1), requires_grad=True)\n",
    "# print('w:', w)\n",
    "# print('b:', b)\n",
    "\n",
    "adam_losses = []\n",
    "\n",
    "optimizer = optim.Adam([w, b], lr=0.1)\n",
    "\n",
    "for epoch in range(epoches):\n",
    "    optimizer.zero_grad()\n",
    "    y_pred = torch.matmul(x_variable, w) + b\n",
    "    # 均方差误差\n",
    "    loss = ((y_pred-y_variable)**2).mean()\n",
    "    loss.backward()\n",
    "    loss_np = loss.data.numpy()\n",
    "    adam_losses.append(loss_np)\n",
    "    optimizer.step()\n",
    "#     print('loss:', loss)\n",
    "\n",
    "plt.plot(x_epoch_time, adam_losses)"
   ]
  },
  {
   "cell_type": "code",
   "execution_count": 21,
   "metadata": {},
   "outputs": [
    {
     "data": {
      "text/plain": [
       "<matplotlib.text.Text at 0x7fe73f211910>"
      ]
     },
     "execution_count": 21,
     "metadata": {},
     "output_type": "execute_result"
    },
    {
     "data": {
      "image/png": "[encoded data removed]",
      "text/plain": [
       "<matplotlib.figure.Figure at 0x7fe73f207b90>"
      ]
     },
     "metadata": {},
     "output_type": "display_data"
    }
   ],
   "source": [
    "plt.plot(x_epoch_time, sgd_losses, label='sgd')\n",
    "plt.plot(x_epoch_time, sgd_momentum_losses, label='sgd_momentum')\n",
    "# plt.plot(x_epoch_time, adagrad_losses, label='adagrad')\n",
    "# plt.plot(x_epoch_time, adadelta_losses, label='adadelta')\n",
    "plt.plot(x_epoch_time, rms_prop_losses, label='rms_prop')\n",
    "plt.plot(x_epoch_time, adam_losses)\n",
    "plt.legend(loc='best')\n",
    "plt.xlabel('epoch')\n",
    "plt.ylabel('loss')"
   ]
  },
  {
   "cell_type": "code",
   "execution_count": null,
   "metadata": {},
   "outputs": [],
   "source": []
  }
 ],
 "metadata": {
  "kernelspec": {
   "display_name": "Python 2",
   "language": "python",
   "name": "python2"
  },
  "language_info": {
   "codemirror_mode": {
    "name": "ipython",
    "version": 2
   },
   "file_extension": ".py",
   "mimetype": "text/x-python",
   "name": "python",
   "nbconvert_exporter": "python",
   "pygments_lexer": "ipython2",
   "version": "2.7.6"
  }
 },
 "nbformat": 4,
 "nbformat_minor": 2
}
