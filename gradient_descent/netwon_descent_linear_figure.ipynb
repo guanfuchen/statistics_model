{
 "cells": [
  {
   "cell_type": "code",
   "execution_count": 1,
   "metadata": {},
   "outputs": [],
   "source": [
    "import numpy as np\n",
    "import torch\n",
    "from torch.autograd import Variable\n",
    "import matplotlib.pyplot as plt"
   ]
  },
  {
   "cell_type": "code",
   "execution_count": 2,
   "metadata": {},
   "outputs": [],
   "source": [
    "# np.meshgrid?\n",
    "# np.linspace?\n",
    "# np.zeros?\n",
    "# plt.contourf?\n",
    "# np.linalg.lstsq?"
   ]
  },
  {
   "cell_type": "code",
   "execution_count": 3,
   "metadata": {},
   "outputs": [],
   "source": [
    "data_count = 100"
   ]
  },
  {
   "cell_type": "code",
   "execution_count": 4,
   "metadata": {},
   "outputs": [],
   "source": [
    "x_tensor = torch.linspace(-5, 5, data_count)\n",
    "x_variable = Variable(x_tensor)\n",
    "x_np = x_tensor.numpy()"
   ]
  },
  {
   "cell_type": "code",
   "execution_count": 5,
   "metadata": {},
   "outputs": [],
   "source": [
    "y_np = 2*x_np + 3"
   ]
  },
  {
   "cell_type": "code",
   "execution_count": 6,
   "metadata": {},
   "outputs": [],
   "source": [
    "noise = np.random.normal(0, 0.1, data_count)"
   ]
  },
  {
   "cell_type": "code",
   "execution_count": 7,
   "metadata": {},
   "outputs": [],
   "source": [
    "y_np = y_np + noise"
   ]
  },
  {
   "cell_type": "code",
   "execution_count": 8,
   "metadata": {},
   "outputs": [
    {
     "data": {
      "text/plain": [
       "[<matplotlib.lines.Line2D at 0x7eff661317d0>]"
      ]
     },
     "execution_count": 8,
     "metadata": {},
     "output_type": "execute_result"
    },
    {
     "data": {
      "image/png": "[encoded data removed]",
      "text/plain": [
       "<matplotlib.figure.Figure at 0x7eff66160050>"
      ]
     },
     "metadata": {},
     "output_type": "display_data"
    }
   ],
   "source": [
    "plt.plot(x_np, y_np)"
   ]
  },
  {
   "cell_type": "code",
   "execution_count": 9,
   "metadata": {},
   "outputs": [
    {
     "data": {
      "text/plain": [
       "(100,)"
      ]
     },
     "execution_count": 9,
     "metadata": {},
     "output_type": "execute_result"
    }
   ],
   "source": [
    "x_np.shape\n",
    "y_np.shape\n",
    "noise.shape"
   ]
  },
  {
   "cell_type": "code",
   "execution_count": 10,
   "metadata": {},
   "outputs": [],
   "source": [
    "w_init = 1000.0\n",
    "b_init = 1000.0\n",
    "w = w_init\n",
    "b = b_init"
   ]
  },
  {
   "cell_type": "code",
   "execution_count": 11,
   "metadata": {},
   "outputs": [],
   "source": [
    "def forward(x):\n",
    "    return x*w+b"
   ]
  },
  {
   "cell_type": "code",
   "execution_count": 12,
   "metadata": {},
   "outputs": [],
   "source": [
    "def loss(x, y):\n",
    "    y_pred = forward(y)\n",
    "    return (y_pred-y)*(y_pred-y)"
   ]
  },
  {
   "cell_type": "code",
   "execution_count": 13,
   "metadata": {},
   "outputs": [],
   "source": [
    "def gradient_w(x, y):\n",
    "    # 优化的loss对w的梯度，使用链式法则进行求解\n",
    "    return 2*(x*w+b-y)*x"
   ]
  },
  {
   "cell_type": "code",
   "execution_count": 14,
   "metadata": {},
   "outputs": [],
   "source": [
    "def gradient_b(x, y):\n",
    "    # 优化的loss对w的梯度，使用链式法则进行求解\n",
    "    return 2*(x*w-y+b)"
   ]
  },
  {
   "cell_type": "code",
   "execution_count": 15,
   "metadata": {},
   "outputs": [],
   "source": [
    "def gradient(x, y):\n",
    "    g = np.zeros((2,1))\n",
    "    g[0][0]=gradient_w(x,y)\n",
    "    g[1][0]=gradient_b(x,y)\n",
    "    return g"
   ]
  },
  {
   "cell_type": "code",
   "execution_count": 16,
   "metadata": {},
   "outputs": [],
   "source": [
    "def hessian(x, y):\n",
    "    h = np.zeros((2,2))\n",
    "    h[0][0] = 2*x*x\n",
    "    h[0][1] = 2*x\n",
    "    h[1][0] = 2*x\n",
    "    h[1][1] = 2\n",
    "    return h"
   ]
  },
  {
   "cell_type": "code",
   "execution_count": 17,
   "metadata": {},
   "outputs": [],
   "source": [
    "def gradient_netwon(x, y):\n",
    "    h = hessian(x,y)\n",
    "    h_elg_value, b_elg_vector = np.linalg.eig(h)\n",
    "    h_elg_value_min = abs(min(h_elg_value))+0.01\n",
    "#     print('h_elg_value_min:', h_elg_value_min)\n",
    "    # 使得hessian逆矩阵存在：具体方法是求得原始h矩阵的特征值，去最小值进行消去即可\n",
    "    h = (h+h_elg_value_min*np.eye(2))/(1+h_elg_value_min)\n",
    "    try:\n",
    "        h_inv = np.mat(h).I\n",
    "        g = gradient(x,y)\n",
    "#         print('h:', h)\n",
    "#         print('g:', g)\n",
    "        g_netwon = h_inv * g\n",
    "        g_netwon_w = g_netwon[0]\n",
    "        g_netwon_b = g_netwon[1]\n",
    "        return g_netwon_w, g_netwon_b\n",
    "    except np.linalg.LinAlgError:\n",
    "        return None\n"
   ]
  },
  {
   "cell_type": "code",
   "execution_count": 18,
   "metadata": {},
   "outputs": [],
   "source": [
    "# netwon_grad = gradient_netwon(x_np[11],y_np[11])"
   ]
  },
  {
   "cell_type": "code",
   "execution_count": 19,
   "metadata": {},
   "outputs": [],
   "source": [
    "# hessian_exist = 0\n",
    "# for i in range(data_count):\n",
    "#     netwon_grad = gradient_netwon(x_np[i],y_np[i])\n",
    "#     if netwon_grad is not None:\n",
    "#         hessian_exist += 1\n",
    "# print('hessian_exist:', hessian_exist)"
   ]
  },
  {
   "cell_type": "code",
   "execution_count": 20,
   "metadata": {},
   "outputs": [
    {
     "data": {
      "image/png": "[encoded data removed]",
      "text/plain": [
       "<matplotlib.figure.Figure at 0x7eff63ea1d90>"
      ]
     },
     "metadata": {},
     "output_type": "display_data"
    }
   ],
   "source": [
    "# 可以看出最后拟合的线越来越接近真实值，loss也越来越小，为了可视化w的学习过程，这里设置学习率eta为较小的值0.0001\n",
    "y_enlarge = 1.0\n",
    "eta = 0.01\n",
    "# eta = 0.01\n",
    "w_times = []\n",
    "b_times = []\n",
    "w_times.append(w)\n",
    "b_times.append(b)\n",
    "epoches = 1000\n",
    "plt.plot(x_np, y_enlarge*y_np, color='black')\n",
    "for epoch in range(epoches):\n",
    "    for x_data, y_data in zip(x_np, y_np):\n",
    "        grad_w, grad_b = gradient_netwon(x_data, y_data)\n",
    "        loss_val = loss(x_data, y_data)\n",
    "        w = w-eta*grad_w\n",
    "        b = b-eta*grad_b\n",
    "    w_times.append(np.array(w[0])[0][0])\n",
    "    b_times.append(np.array(b[0])[0][0])\n",
    "#     plt.plot(x_np, y_enlarge*forward(x_np))\n",
    "#     print('loss_val:', loss_val)\n",
    "#     print('w:', w)"
   ]
  },
  {
   "cell_type": "code",
   "execution_count": 21,
   "metadata": {},
   "outputs": [
    {
     "data": {
      "text/plain": [
       "matrix([[ 1.99971999]])"
      ]
     },
     "execution_count": 21,
     "metadata": {},
     "output_type": "execute_result"
    }
   ],
   "source": [
    "w"
   ]
  },
  {
   "cell_type": "code",
   "execution_count": 22,
   "metadata": {},
   "outputs": [
    {
     "data": {
      "text/plain": [
       "matrix([[ 2.98345763]])"
      ]
     },
     "execution_count": 22,
     "metadata": {},
     "output_type": "execute_result"
    }
   ],
   "source": [
    "b"
   ]
  },
  {
   "cell_type": "code",
   "execution_count": 23,
   "metadata": {},
   "outputs": [],
   "source": [
    "grad_figure_enlarge_count = 2 * data_count\n",
    "w_range = np.linspace(-w_init*1.5, w_init*1.5, grad_figure_enlarge_count)\n",
    "b_range = np.linspace(-b_init*1.5, b_init*1.5, grad_figure_enlarge_count)\n",
    "w_mesh, b_mesh = np.meshgrid(w_range, b_range)"
   ]
  },
  {
   "cell_type": "code",
   "execution_count": 24,
   "metadata": {},
   "outputs": [],
   "source": [
    "loss_np = np.zeros((grad_figure_enlarge_count, grad_figure_enlarge_count))\n",
    "for row_index in range(grad_figure_enlarge_count):\n",
    "    for col_index in range(grad_figure_enlarge_count):\n",
    "        w_1 = w_mesh[row_index][col_index]\n",
    "        b_1 = b_mesh[row_index][col_index]\n",
    "#         print('w_1:', w_1)\n",
    "#         print('b_1:', b_1)\n",
    "        loss_val = 0.0\n",
    "        for (x, y) in zip(x_np, y_np):\n",
    "            loss_val += (w_1 * x + b_1 - y) * (w_1 * x + b_1 - y)\n",
    "        loss_val /= data_count\n",
    "        loss_np[row_index][col_index] = loss_val"
   ]
  },
  {
   "cell_type": "code",
   "execution_count": 25,
   "metadata": {},
   "outputs": [
    {
     "data": {
      "text/plain": [
       "<matplotlib.text.Text at 0x7eff63c9ac50>"
      ]
     },
     "execution_count": 25,
     "metadata": {},
     "output_type": "execute_result"
    },
    {
     "data": {
      "image/png": "[encoded data removed]",
      "text/plain": [
       "<matplotlib.figure.Figure at 0x7eff63cf98d0>"
      ]
     },
     "metadata": {},
     "output_type": "display_data"
    }
   ],
   "source": [
    "# [Contour Corner Mask](https://matplotlib.org/gallery/images_contours_and_fields/contour_corner_mask.html#sphx-glr-gallery-images-contours-and-fields-contour-corner-mask-py)\n",
    "# [Contours 等高线图](https://morvanzhou.github.io/tutorials/data-manipulation/plt/3-3-contours/)\n",
    "cs = plt.contourf(w_mesh, b_mesh, loss_np)\n",
    "plt.contour(cs, colors='k')\n",
    "\n",
    "loss_np_times = np.zeros(epoches)\n",
    "for epoch in range(epoches):\n",
    "    w_l = w_times[epoch]\n",
    "    b_l = b_times[epoch]\n",
    "    loss_val = 0.0\n",
    "    for (x, y) in zip(x_np, y_np):\n",
    "        loss_val += (w_1 * x + b_1 - y) * (w_1 * x + b_1 - y)\n",
    "    loss_val /= data_count\n",
    "    loss_np_times[epoch] = loss_val\n",
    "\n",
    "plt.plot(w_times, b_times, c='r')\n",
    "plt.xlabel('w')\n",
    "plt.ylabel('b')\n",
    "# plt.show()"
   ]
  },
  {
   "cell_type": "code",
   "execution_count": null,
   "metadata": {},
   "outputs": [],
   "source": []
  }
 ],
 "metadata": {
  "kernelspec": {
   "display_name": "Python 2",
   "language": "python",
   "name": "python2"
  },
  "language_info": {
   "codemirror_mode": {
    "name": "ipython",
    "version": 2
   },
   "file_extension": ".py",
   "mimetype": "text/x-python",
   "name": "python",
   "nbconvert_exporter": "python",
   "pygments_lexer": "ipython2",
   "version": "2.7.6"
  }
 },
 "nbformat": 4,
 "nbformat_minor": 2
}
