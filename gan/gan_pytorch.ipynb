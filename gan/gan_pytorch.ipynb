{
 "cells": [
  {
   "cell_type": "code",
   "execution_count": 1,
   "metadata": {
    "collapsed": true
   },
   "outputs": [],
   "source": [
    "import torch\n",
    "import numpy as np\n",
    "from torch import nn\n",
    "from torch import optim\n",
    "from torch.autograd import Variable\n",
    "import torch.nn.functional as F"
   ]
  },
  {
   "cell_type": "code",
   "execution_count": 2,
   "metadata": {
    "collapsed": true
   },
   "outputs": [],
   "source": [
    "# [gan_pytorch.py](https://github.com/devnag/pytorch-generative-adversarial-networks/blob/master/gan_pytorch.py)"
   ]
  },
  {
   "cell_type": "code",
   "execution_count": 3,
   "metadata": {
    "collapsed": true
   },
   "outputs": [],
   "source": [
    "class Generator(nn.Module):\n",
    "    def __init__(self, input_size, hidden_size, output_size):\n",
    "        super(Generator, self).__init__()\n",
    "        self.fc1 = nn.Linear(input_size, hidden_size)\n",
    "        self.fc2 = nn.Linear(hidden_size, hidden_size)\n",
    "        self.fc3 = nn.Linear(hidden_size, output_size)\n",
    "        \n",
    "    def forward(self, x):\n",
    "        x = F.relu(self.fc1(x))\n",
    "        x = F.relu(self.fc2(x))\n",
    "        x = self.fc3(x)\n",
    "        return x"
   ]
  },
  {
   "cell_type": "code",
   "execution_count": 4,
   "metadata": {
    "collapsed": true
   },
   "outputs": [],
   "source": [
    "class Discriminator(nn.Module):\n",
    "    def __init__(self, input_size, hidden_size, output_size):\n",
    "        super(Discriminator, self).__init__()\n",
    "        self.fc1 = nn.Linear(input_size, hidden_size)\n",
    "        self.fc2 = nn.Linear(hidden_size, hidden_size)\n",
    "        self.fc3 = nn.Linear(hidden_size, output_size)\n",
    "        \n",
    "    def forward(self, x):\n",
    "        x = F.relu(self.fc1(x))\n",
    "        x = F.relu(self.fc2(x))\n",
    "        x = F.sigmoid(self.fc3(x)) # sigmoid判断数据real还是fake\n",
    "        return x"
   ]
  },
  {
   "cell_type": "code",
   "execution_count": 5,
   "metadata": {
    "collapsed": true
   },
   "outputs": [],
   "source": [
    "g_input_size = 1\n",
    "g_hidden_size = 50\n",
    "g_output_size = 1"
   ]
  },
  {
   "cell_type": "code",
   "execution_count": 6,
   "metadata": {
    "collapsed": true
   },
   "outputs": [],
   "source": [
    "d_input_size = 1\n",
    "d_hidden_size = 50\n",
    "d_output_size = 1"
   ]
  },
  {
   "cell_type": "code",
   "execution_count": 7,
   "metadata": {
    "collapsed": true
   },
   "outputs": [],
   "source": [
    "G = Generator(input_size=g_input_size, hidden_size=g_hidden_size, output_size=g_output_size)"
   ]
  },
  {
   "cell_type": "code",
   "execution_count": 8,
   "metadata": {
    "collapsed": true
   },
   "outputs": [],
   "source": [
    "D = Discriminator(input_size=d_input_size, hidden_size=d_hidden_size, output_size=d_output_size)"
   ]
  },
  {
   "cell_type": "code",
   "execution_count": 9,
   "metadata": {
    "collapsed": true
   },
   "outputs": [],
   "source": [
    "criterion = nn.BCELoss() # binary cross entropy"
   ]
  },
  {
   "cell_type": "code",
   "execution_count": 10,
   "metadata": {
    "collapsed": true
   },
   "outputs": [],
   "source": [
    "g_optimizer = optim.Adam(G.parameters(), lr=0.0001)"
   ]
  },
  {
   "cell_type": "code",
   "execution_count": 11,
   "metadata": {
    "collapsed": true
   },
   "outputs": [],
   "source": [
    "d_optimizer = optim.Adam(D.parameters(), lr=0.0001)"
   ]
  },
  {
   "cell_type": "code",
   "execution_count": 12,
   "metadata": {
    "collapsed": true
   },
   "outputs": [],
   "source": [
    "def d_sampler_f(n):\n",
    "    mu = 4\n",
    "    sigma = 1.25\n",
    "    return torch.Tensor(np.random.normal(mu, sigma, (1, n)))"
   ]
  },
  {
   "cell_type": "code",
   "execution_count": 13,
   "metadata": {},
   "outputs": [
    {
     "data": {
      "text/plain": [
       "\n",
       " 3.9810  2.9058  3.1202  4.0703  4.2688\n",
       "[torch.FloatTensor of size 1x5]"
      ]
     },
     "execution_count": 13,
     "metadata": {},
     "output_type": "execute_result"
    }
   ],
   "source": [
    "d_sampler_f(5)"
   ]
  },
  {
   "cell_type": "code",
   "execution_count": 14,
   "metadata": {
    "collapsed": true
   },
   "outputs": [],
   "source": [
    "def g_sampler_f(n):\n",
    "    return torch.randn(1, n)"
   ]
  },
  {
   "cell_type": "code",
   "execution_count": 15,
   "metadata": {},
   "outputs": [
    {
     "data": {
      "text/plain": [
       "\n",
       "-0.3719  0.1446  0.8508 -0.0931 -0.3209\n",
       "[torch.FloatTensor of size 1x5]"
      ]
     },
     "execution_count": 15,
     "metadata": {},
     "output_type": "execute_result"
    }
   ],
   "source": [
    "g_sampler_f(5)"
   ]
  },
  {
   "cell_type": "code",
   "execution_count": 16,
   "metadata": {},
   "outputs": [
    {
     "name": "stdout",
     "output_type": "stream",
     "text": [
      "('epoch:', 0, ',d_fake_error:', 0.69772047, ',d_real_error:', 0.68049753, ',g_error:', 0.6862129)\n"
     ]
    }
   ],
   "source": [
    "for epoch in range(1):\n",
    "    # 训练D\n",
    "    d_optimizer.zero_grad()\n",
    "    \n",
    "    # real data训练\n",
    "    d_real_sampler = Variable(d_sampler_f(d_input_size))\n",
    "    d_real_pred = D(d_real_sampler)\n",
    "    d_real_error = criterion(d_real_pred, Variable(torch.ones(d_real_pred.size())))\n",
    "    \n",
    "    d_real_error.backward()\n",
    "    \n",
    "    # fake data训练\n",
    "    g_input = Variable(g_sampler_f(g_input_size))\n",
    "    d_fake_sampler = G(g_input)\n",
    "    d_fake_pred = D(d_fake_sampler)\n",
    "    d_fake_error = criterion(d_fake_pred, Variable(torch.zeros(d_fake_pred.size())))\n",
    "    d_fake_error.backward()\n",
    "    ####\n",
    "    \n",
    "    d_optimizer.step()\n",
    "    \n",
    "    # 训练G\n",
    "    g_input = Variable(g_sampler_f(g_input_size))\n",
    "    d_sampler = G(g_input)\n",
    "    d_pred = D(d_sampler)\n",
    "    g_error = criterion(d_pred, Variable(torch.ones(d_pred.size())))\n",
    "    g_error.backward()\n",
    "    \n",
    "    ####\n",
    "    \n",
    "    g_optimizer.step()\n",
    "    \n",
    "    if epoch%500==0:\n",
    "        print('epoch:', epoch, ',d_fake_error:', d_fake_error.data.numpy()[0], ',d_real_error:', d_real_error.data.numpy()[0], ',g_error:', g_error.data.numpy()[0])\n",
    "    "
   ]
  }
 ],
 "metadata": {
  "kernelspec": {
   "display_name": "Python 2",
   "language": "python",
   "name": "python2"
  },
  "language_info": {
   "codemirror_mode": {
    "name": "ipython",
    "version": 2
   },
   "file_extension": ".py",
   "mimetype": "text/x-python",
   "name": "python",
   "nbconvert_exporter": "python",
   "pygments_lexer": "ipython2",
   "version": "2.7.10"
  }
 },
 "nbformat": 4,
 "nbformat_minor": 2
}
