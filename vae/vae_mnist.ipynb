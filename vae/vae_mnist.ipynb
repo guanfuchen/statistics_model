{
 "cells": [
  {
   "cell_type": "code",
   "execution_count": null,
   "metadata": {},
   "outputs": [],
   "source": [
    "import torch\n",
    "from torchvision import transforms\n",
    "from torchvision import datasets\n",
    "import os\n",
    "import matplotlib.pyplot as plt\n",
    "from torch import nn\n",
    "from torch import optim\n",
    "import torch.nn.functional as F\n",
    "from torch.autograd import Variable"
   ]
  },
  {
   "cell_type": "code",
   "execution_count": null,
   "metadata": {},
   "outputs": [],
   "source": [
    "# torch.chunk?\n"
   ]
  },
  {
   "cell_type": "code",
   "execution_count": null,
   "metadata": {},
   "outputs": [],
   "source": [
    "batch_size = 100"
   ]
  },
  {
   "cell_type": "code",
   "execution_count": null,
   "metadata": {},
   "outputs": [],
   "source": [
    "def to_var(x):\n",
    "    if torch.cuda.is_available():\n",
    "        x = x.cuda()\n",
    "    return Variable(x)"
   ]
  },
  {
   "cell_type": "code",
   "execution_count": null,
   "metadata": {},
   "outputs": [],
   "source": [
    "data_train = datasets.MNIST(root=os.path.expanduser('~/Data/pytorch/'), train=True, transform=transforms.ToTensor(), download=True)"
   ]
  },
  {
   "cell_type": "code",
   "execution_count": null,
   "metadata": {},
   "outputs": [],
   "source": [
    "data_train_loader = torch.utils.data.DataLoader(dataset=data_train, batch_size=batch_size, shuffle=True)"
   ]
  },
  {
   "cell_type": "code",
   "execution_count": null,
   "metadata": {},
   "outputs": [],
   "source": [
    "class VAE(nn.Module):\n",
    "    def __init__(self, image_size=28*28, h_dim=400, z_dim=20):\n",
    "        super(VAE, self).__init__()\n",
    "        self.encoder = nn.Sequential(\n",
    "            nn.Linear(in_features=image_size, out_features=h_dim),\n",
    "            nn.LeakyReLU(0.2),\n",
    "            nn.Linear(in_features=h_dim, out_features=z_dim*2) # 2表示mu和log_var\n",
    "        )\n",
    "        self.decoder = nn.Sequential(\n",
    "            nn.Linear(in_features=z_dim, out_features=h_dim),\n",
    "            nn.ReLU(),\n",
    "            nn.Linear(in_features=h_dim, out_features=image_size),\n",
    "            nn.Sigmoid()\n",
    "        )\n",
    "        \n",
    "    def resample(self, mu, log_var):\n",
    "        eps = to_var(torch.randn((mu.size(0), mu.size(1))))\n",
    "        z = mu + eps*torch.exp(log_var/2)\n",
    "        return z\n",
    "        \n",
    "    def forward(self, x):\n",
    "        h = self.encoder(x)\n",
    "        mu, log_var = torch.chunk(h, chunks=2, dim=1)\n",
    "        z = self.resample(mu, log_var)\n",
    "        out = self.decoder(z)\n",
    "        return out, mu, log_var"
   ]
  },
  {
   "cell_type": "code",
   "execution_count": null,
   "metadata": {},
   "outputs": [],
   "source": [
    "vae = VAE()\n",
    "if torch.cuda.is_available():\n",
    "    vae.cuda()"
   ]
  },
  {
   "cell_type": "code",
   "execution_count": null,
   "metadata": {},
   "outputs": [],
   "source": [
    "optimizer = optim.Adam(vae.parameters(), lr=0.001)"
   ]
  },
  {
   "cell_type": "code",
   "execution_count": null,
   "metadata": {},
   "outputs": [],
   "source": [
    "# 固定参数，用来调试\n",
    "fixed_x, _ = next(iter(data_train_loader))\n",
    "fixed_x_flatten = fixed_x.view(1, -1)\n",
    "# print(fixed_x_flatten.shape)\n",
    "fixed_x_var = to_var(fixed_x_flatten)"
   ]
  },
  {
   "cell_type": "code",
   "execution_count": null,
   "metadata": {},
   "outputs": [],
   "source": [
    "# 训练前\n",
    "fixed_x_pred_var, _, _ = vae(fixed_x_var)\n",
    "fixed_x_pred_var_np = fixed_x_pred_var.data.numpy().reshape(28, 28)\n",
    "# print(fixed_x_pred_var_np.shape)\n",
    "plt.imshow(fixed_x_pred_var_np, cmap='gray')"
   ]
  },
  {
   "cell_type": "code",
   "execution_count": null,
   "metadata": {},
   "outputs": [],
   "source": [
    "for epoch in range(1):\n",
    "    for data_train_index, (data_images, _) in enumerate(data_train_loader):\n",
    "#         print('data_train_index:', data_train_index)\n",
    "#         print('data_images.shape:', data_images.shape)\n",
    "        data_images_flatten = data_images.view(batch_size, -1)\n",
    "        data_images_flatten_var = to_var(data_images_flatten)\n",
    "        \n",
    "        data_images_flatten_var_out, mu, log_var = vae(data_images_flatten_var)\n",
    "        \n",
    "        # 误差loss\n",
    "        reconst_loss = F.binary_cross_entropy(data_images_flatten_var_out, data_images_flatten_var, size_average=False)\n",
    "        kl_divergence = torch.sum(0.5 * (mu**2 + torch.exp(log_var) - log_var -1))\n",
    "        total_loss = reconst_loss + kl_divergence\n",
    "        \n",
    "        optimizer.zero_grad()\n",
    "        total_loss.backward()\n",
    "        optimizer.step()\n",
    "        \n",
    "        if data_train_index%1000==0:\n",
    "            total_loss_np = total_loss.data.numpy()[0]\n",
    "            print('total_loss_np:', total_loss_np)"
   ]
  },
  {
   "cell_type": "code",
   "execution_count": null,
   "metadata": {},
   "outputs": [],
   "source": [
    "# 训练后\n",
    "fixed_x_pred_var, _, _ = vae(fixed_x_var)\n",
    "fixed_x_pred_var_np = fixed_x_pred_var.data.numpy().reshape(28, 28)\n",
    "# print(fixed_x_pred_var_np.shape)\n",
    "plt.imshow(fixed_x_pred_var_np, cmap='gray')"
   ]
  }
 ],
 "metadata": {
  "kernelspec": {
   "display_name": "Python 2",
   "language": "python",
   "name": "python2"
  },
  "language_info": {
   "codemirror_mode": {
    "name": "ipython",
    "version": 2
   },
   "file_extension": ".py",
   "mimetype": "text/x-python",
   "name": "python",
   "nbconvert_exporter": "python",
   "pygments_lexer": "ipython2",
   "version": "2.7.6"
  }
 },
 "nbformat": 4,
 "nbformat_minor": 2
}
