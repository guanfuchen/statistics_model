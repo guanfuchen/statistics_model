{
 "cells": [
  {
   "cell_type": "code",
   "execution_count": 1,
   "metadata": {},
   "outputs": [],
   "source": [
    "import torch\n",
    "from torch import nn\n",
    "from torch.autograd import Variable"
   ]
  },
  {
   "cell_type": "code",
   "execution_count": 2,
   "metadata": {},
   "outputs": [],
   "source": [
    "# nn.Embedding?"
   ]
  },
  {
   "cell_type": "code",
   "execution_count": 3,
   "metadata": {},
   "outputs": [],
   "source": [
    "embedding = nn.Embedding(num_embeddings=10, embedding_dim=3) # 其中embedding查找表长度为10，每一个embedding向量为3"
   ]
  },
  {
   "cell_type": "code",
   "execution_count": 4,
   "metadata": {},
   "outputs": [
    {
     "name": "stdout",
     "output_type": "stream",
     "text": [
      "('input_var.data.shape:', torch.Size([2, 3]))\n",
      "('output_var:', Variable containing:\n",
      "(0 ,.,.) = \n",
      " -0.2156 -0.2339 -0.6982\n",
      "  0.5781 -0.4462 -0.8729\n",
      "  0.7429  0.2663 -0.4263\n",
      "\n",
      "(1 ,.,.) = \n",
      "  0.7429  0.2663 -0.4263\n",
      "  0.0358  0.6802  1.4739\n",
      " -2.0134  1.2063 -1.2882\n",
      "[torch.FloatTensor of size 2x3x3]\n",
      ")\n",
      "('output_var.data.shape:', torch.Size([2, 3, 3]))\n"
     ]
    }
   ],
   "source": [
    "input_var = Variable(torch.LongTensor([[1, 2, 3], [3, 4, 5]]))\n",
    "# print('input_var:', input_var)\n",
    "print('input_var.data.shape:', input_var.data.shape)\n",
    "output_var = embedding(input_var)\n",
    "print('output_var:', output_var)\n",
    "print('output_var.data.shape:', output_var.data.shape)"
   ]
  },
  {
   "cell_type": "code",
   "execution_count": null,
   "metadata": {},
   "outputs": [],
   "source": []
  }
 ],
 "metadata": {
  "kernelspec": {
   "display_name": "Python 2",
   "language": "python",
   "name": "python2"
  },
  "language_info": {
   "codemirror_mode": {
    "name": "ipython",
    "version": 2
   },
   "file_extension": ".py",
   "mimetype": "text/x-python",
   "name": "python",
   "nbconvert_exporter": "python",
   "pygments_lexer": "ipython2",
   "version": "2.7.6"
  }
 },
 "nbformat": 4,
 "nbformat_minor": 2
}
