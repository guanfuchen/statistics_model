{
 "cells": [
  {
   "cell_type": "code",
   "execution_count": 1,
   "metadata": {},
   "outputs": [],
   "source": [
    "%matplotlib inline\n",
    "from sklearn.cluster import KMeans\n",
    "import matplotlib.pyplot as plt\n",
    "import numpy as np"
   ]
  },
  {
   "cell_type": "code",
   "execution_count": 2,
   "metadata": {},
   "outputs": [],
   "source": [
    "# np.random.choice?\n",
    "# np.average?"
   ]
  },
  {
   "cell_type": "code",
   "execution_count": 3,
   "metadata": {},
   "outputs": [],
   "source": [
    "X = []\n",
    "data_file = open('../data/k-means/testSet.txt', 'r')\n",
    "for line in data_file.readlines():\n",
    "    line = line.strip()\n",
    "    x1, x2 = line.split('\\t')\n",
    "#     print('x1:', x1)\n",
    "#     print('x2:', x2)\n",
    "    X.append([x1, x2])\n",
    "#     print('line:', line)\n",
    "data_file.close()\n",
    "# print(X)\n",
    "X = np.array(X, dtype='float32')"
   ]
  },
  {
   "cell_type": "code",
   "execution_count": 4,
   "metadata": {},
   "outputs": [],
   "source": [
    "X_len = X.shape[0]\n",
    "y_pred = np.zeros(X_len, dtype='int')\n",
    "k = 4\n",
    "rand_center_indices = np.random.choice(X_len, k)\n",
    "rand_center = X[rand_center_indices]"
   ]
  },
  {
   "cell_type": "code",
   "execution_count": 5,
   "metadata": {},
   "outputs": [
    {
     "data": {
      "text/plain": [
       "(4, 2)"
      ]
     },
     "execution_count": 5,
     "metadata": {},
     "output_type": "execute_result"
    }
   ],
   "source": [
    "rand_center.shape"
   ]
  },
  {
   "cell_type": "code",
   "execution_count": 6,
   "metadata": {},
   "outputs": [],
   "source": [
    "def dist(x1, x2):\n",
    "    return np.sqrt(np.sum(np.power((x1-x2), 2)))"
   ]
  },
  {
   "cell_type": "code",
   "execution_count": 7,
   "metadata": {},
   "outputs": [
    {
     "data": {
      "text/plain": [
       "5.1846328"
      ]
     },
     "execution_count": 7,
     "metadata": {},
     "output_type": "execute_result"
    }
   ],
   "source": [
    "dist(X[0, :], X[1, :])"
   ]
  },
  {
   "cell_type": "code",
   "execution_count": 8,
   "metadata": {},
   "outputs": [],
   "source": [
    "iterate_count = 100\n",
    "while iterate_count:\n",
    "    # 计算各个点到中心距离的距离并分类\n",
    "    for data_id, x in enumerate(X):\n",
    "        dist_x = []\n",
    "        for center_k in range(k):\n",
    "            dist_k = dist(x, rand_center[center_k])\n",
    "            dist_x.append(dist_k)\n",
    "        dist_x = np.array(dist_x)\n",
    "#         print('dist_x.shape:', dist_x.shape)\n",
    "        min_dist_index = np.argmin(dist_x)\n",
    "#         print('min_dist_index:', min_dist_index)\n",
    "        y_pred[data_id] = min_dist_index\n",
    "\n",
    "    # 重新计算聚类中心\n",
    "    for center_k in range(k):\n",
    "        data_ids = (y_pred==center_k)\n",
    "        x_center_k = X[data_ids]\n",
    "#         print('data_ids:', data_ids)\n",
    "#         print('x_center_k:', x_center_k)\n",
    "#         print('x_center_k.shape:', x_center_k.shape)\n",
    "        rand_center[center_k] = np.average(x_center_k, axis=0)\n",
    "#         dist_x.append(dist_k)\n",
    "#     print('rand_center:', rand_center)\n",
    "    iterate_count -= 1"
   ]
  },
  {
   "cell_type": "code",
   "execution_count": 9,
   "metadata": {},
   "outputs": [],
   "source": [
    "color_dict = np.array(['r', 'g', 'b', 'y'])\n",
    "color_center_dict = np.array(['g', 'b', 'y', 'k'])\n",
    "y_pred_color = color_dict[y_pred]"
   ]
  },
  {
   "cell_type": "code",
   "execution_count": 10,
   "metadata": {},
   "outputs": [
    {
     "data": {
      "image/png": "[encoded data removed]",
      "text/plain": [
       "<matplotlib.figure.Figure at 0x7f4e80d26110>"
      ]
     },
     "metadata": {},
     "output_type": "display_data"
    }
   ],
   "source": [
    "plt.scatter(X[:, 0], X[:, 1], color=y_pred_color)\n",
    "for cluster_center_index, cluster_center in enumerate(rand_center):\n",
    "    plt.plot(cluster_center[0], cluster_center[1], marker='+', markersize=10, color=color_center_dict[cluster_center_index])"
   ]
  }
 ],
 "metadata": {
  "kernelspec": {
   "display_name": "Python 2",
   "language": "python",
   "name": "python2"
  },
  "language_info": {
   "codemirror_mode": {
    "name": "ipython",
    "version": 2
   },
   "file_extension": ".py",
   "mimetype": "text/x-python",
   "name": "python",
   "nbconvert_exporter": "python",
   "pygments_lexer": "ipython2",
   "version": "2.7.6"
  }
 },
 "nbformat": 4,
 "nbformat_minor": 2
}
